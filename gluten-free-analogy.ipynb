{
 "cells": [
  {
   "cell_type": "code",
   "execution_count": 1,
   "id": "58f9ecd1",
   "metadata": {},
   "outputs": [],
   "source": [
    "import datetime\n",
    "\n",
    "from gensim.models import KeyedVectors\n",
    "from gensim.test import test_data\n",
    "import pandas as pd\n",
    "import matplotlib.pyplot as plt"
   ]
  },
  {
   "cell_type": "code",
   "execution_count": 2,
   "id": "f6b6b64e",
   "metadata": {},
   "outputs": [],
   "source": [
    "questions_en = '/home/levai/.miniconda3/envs/gensim/lib/python3.8/site-packages/gensim/test/test_data/questions-words.txt'"
   ]
  },
  {
   "cell_type": "code",
   "execution_count": 3,
   "id": "b1353d45",
   "metadata": {},
   "outputs": [],
   "source": [
    "questions = '/mnt/permanent/Language/Hungarian/Embed/questions-words-hu/questions-words-hu.txt'"
   ]
  },
  {
   "cell_type": "code",
   "execution_count": 4,
   "id": "c63dd471",
   "metadata": {},
   "outputs": [],
   "source": [
    "vectors_en = KeyedVectors.load('/mnt/permanent/Language/English/Embed/glove.840B.300d.gensim')"
   ]
  },
  {
   "cell_type": "code",
   "execution_count": 5,
   "id": "6ed5d689",
   "metadata": {},
   "outputs": [],
   "source": [
    "vectors = KeyedVectors.load('/mnt/permanent/Language/Hungarian/Embed/mnsz2/glf/mnsz-glf-sgram-600.gensim')"
   ]
  },
  {
   "cell_type": "code",
   "execution_count": 6,
   "id": "e64df79b",
   "metadata": {},
   "outputs": [],
   "source": [
    "def get_analogy_scores(vectors, questions):\n",
    "    score, sections = vectors.evaluate_word_analogies(questions, restrict_vocab=10000)\n",
    "    #print(score)\n",
    "    df_ = pd.DataFrame(sections)\n",
    "    df_.set_index('section', inplace=True)\n",
    "    df = df_.apply({'correct': len, 'incorrect': len})\n",
    "    df['total'] = df.sum(axis=1)\n",
    "    df['accuracy'] = df.correct / df.total\n",
    "    df.drop(index=['Total accuracy'], inplace=True)\n",
    "    return df"
   ]
  },
  {
   "cell_type": "markdown",
   "id": "caa8a92e",
   "metadata": {},
   "source": [
    "# English"
   ]
  },
  {
   "cell_type": "code",
   "execution_count": 7,
   "id": "21389a95",
   "metadata": {},
   "outputs": [],
   "source": [
    "df_en = get_analogy_scores(vectors_en, questions_en)"
   ]
  },
  {
   "cell_type": "code",
   "execution_count": 8,
   "id": "1e8e2586",
   "metadata": {},
   "outputs": [],
   "source": [
    "df = get_analogy_scores(vectors, questions)"
   ]
  },
  {
   "cell_type": "code",
   "execution_count": 9,
   "id": "87cf788a",
   "metadata": {},
   "outputs": [
    {
     "data": {
      "text/plain": [
       "<matplotlib.collections.PathCollection at 0x7f89f9cb8e80>"
      ]
     },
     "execution_count": 9,
     "metadata": {},
     "output_type": "execute_result"
    },
    {
     "data": {
      "image/png": "[encoded data removed]",
      "text/plain": [
       "<Figure size 640x480 with 1 Axes>"
      ]
     },
     "metadata": {},
     "output_type": "display_data"
    }
   ],
   "source": [
    "plt.scatter(df_en.total, df_en.accuracy)"
   ]
  },
  {
   "cell_type": "code",
   "execution_count": 10,
   "id": "bf64803d",
   "metadata": {},
   "outputs": [
    {
     "data": {
      "text/plain": [
       "<matplotlib.collections.PathCollection at 0x7f8a035eae60>"
      ]
     },
     "execution_count": 10,
     "metadata": {},
     "output_type": "execute_result"
    },
    {
     "data": {
      "image/png": "[encoded data removed]",
      "text/plain": [
       "<Figure size 640x480 with 1 Axes>"
      ]
     },
     "metadata": {},
     "output_type": "display_data"
    }
   ],
   "source": [
    "plt.scatter(df.total, df.accuracy)"
   ]
  },
  {
   "cell_type": "markdown",
   "id": "72a9148e",
   "metadata": {},
   "source": [
    "# Webcorpus 2.0: gluten-free and vanila"
   ]
  },
  {
   "cell_type": "code",
   "execution_count": 11,
   "id": "5fe00039",
   "metadata": {},
   "outputs": [],
   "source": [
    "def aggregate_score(model):\n",
    "    df = get_analogy_scores(model, questions)\n",
    "    df.drop(index=['capital-world', 'capital-common-countries'], inplace=True)\n",
    "    # capital-world is disregarded because large OOV make this relation instabile\n",
    "    # [~df.index.str.startswith('gram')]\n",
    "    return df.accuracy.mean()"
   ]
  },
  {
   "cell_type": "code",
   "execution_count": 12,
   "id": "9aaf8135",
   "metadata": {},
   "outputs": [],
   "source": [
    "embed_dir = '/mnt/permanent/Language/Hungarian/Embed/webcorpus2.0'"
   ]
  },
  {
   "cell_type": "code",
   "execution_count": 21,
   "id": "08926e61",
   "metadata": {},
   "outputs": [],
   "source": [
    "file_patterns = ['2017_2018_2956', '2017_2018_295', '2017_2018_29', 'wiki', '2017_2018_2', '2017_2018']#, '201', ''\n",
    "def get_accuracy_by_size():\n",
    "    for file_pattern in file_patterns:\n",
    "        for deglutinate_ in ['vanila', 'deglut', 'deglutAllSuffSepd']:\n",
    "            try:\n",
    "                model = KeyedVectors.load(f'{embed_dir}/sgns-300-{file_pattern}-{deglutinate_}.gensim')\n",
    "            except FileNotFoundError:\n",
    "                continue\n",
    "            record = {\n",
    "                'files': f'{file_pattern}*',\n",
    "                'deglut' : deglutinate_,\n",
    "                'sentence': model.corpus_count, \n",
    "                'token': model.corpus_total_words, \n",
    "                'type': len(model.wv.key_to_index)}\n",
    "            df = get_analogy_scores(model.wv, questions)\n",
    "            record['capital-common-countries'] = df.loc['capital-common-countries']\n",
    "            df.drop(index=['capital-world', 'capital-common-countries'], inplace=True)\n",
    "            record['accuracy'] = df.accuracy.mean()\n",
    "            print(record)\n",
    "            yield record"
   ]
  },
  {
   "cell_type": "code",
   "execution_count": 22,
   "id": "0e0f313d",
   "metadata": {},
   "outputs": [],
   "source": [
    "records = get_accuracy_by_size()"
   ]
  },
  {
   "cell_type": "code",
   "execution_count": null,
   "id": "c47173be",
   "metadata": {},
   "outputs": [
    {
     "name": "stdout",
     "output_type": "stream",
     "text": [
      "{'files': '2017_2018_2956*', 'deglut': 'vanila', 'sentence': 66798, 'token': 894741, 'type': 9388, 'capital-common-countries': correct      0.0\n",
      "incorrect    0.0\n",
      "total        0.0\n",
      "accuracy     NaN\n",
      "Name: capital-common-countries, dtype: float64, 'accuracy': 0.000649772579597141}\n",
      "{'files': '2017_2018_2956*', 'deglut': 'deglut', 'sentence': 66798, 'token': 1192818, 'type': 6739, 'capital-common-countries': correct      0.0\n",
      "incorrect    1.0\n",
      "total        1.0\n",
      "accuracy     0.0\n",
      "Name: capital-common-countries, dtype: float64, 'accuracy': 0.03333333333333333}\n",
      "{'files': '2017_2018_2956*', 'deglut': 'deglutAllSuffSepd', 'sentence': 66798, 'token': 1246317, 'type': 6576, 'capital-common-countries': correct      0.0\n",
      "incorrect    1.0\n",
      "total        1.0\n",
      "accuracy     0.0\n",
      "Name: capital-common-countries, dtype: float64, 'accuracy': 0.016666666666666666}\n",
      "{'files': '2017_2018_295*', 'deglut': 'vanila', 'sentence': 879317, 'token': 16948301, 'type': 149981, 'capital-common-countries': correct      0.0\n",
      "incorrect    0.0\n",
      "total        0.0\n",
      "accuracy     NaN\n",
      "Name: capital-common-countries, dtype: float64, 'accuracy': 0.07330104504745653}\n",
      "{'files': '2017_2018_295*', 'deglut': 'deglut', 'sentence': 879317, 'token': 22585465, 'type': 77302, 'capital-common-countries': correct      0.0\n",
      "incorrect    1.0\n",
      "total        1.0\n",
      "accuracy     0.0\n",
      "Name: capital-common-countries, dtype: float64, 'accuracy': 0.048497617670550004}\n",
      "{'files': '2017_2018_295*', 'deglut': 'deglutAllSuffSepd', 'sentence': 879317, 'token': 23261396, 'type': 76795, 'capital-common-countries': correct      0.0\n",
      "incorrect    1.0\n",
      "total        1.0\n",
      "accuracy     0.0\n",
      "Name: capital-common-countries, dtype: float64, 'accuracy': 0.050488967516831296}\n",
      "{'files': '2017_2018_29*', 'deglut': 'vanila', 'sentence': 12058626, 'token': 228013641, 'type': 1028343, 'capital-common-countries': correct      1.0\n",
      "incorrect    0.0\n",
      "total        1.0\n",
      "accuracy     1.0\n",
      "Name: capital-common-countries, dtype: float64, 'accuracy': 0.46968668094266186}\n",
      "{'files': '2017_2018_29*', 'deglut': 'deglut', 'sentence': 12058626, 'token': 301267234, 'type': 516924, 'capital-common-countries': correct       8.000000\n",
      "incorrect     7.000000\n",
      "total        15.000000\n",
      "accuracy      0.533333\n",
      "Name: capital-common-countries, dtype: float64, 'accuracy': 0.33574690875000474}\n",
      "{'files': '2017_2018_29*', 'deglut': 'deglutAllSuffSepd', 'sentence': 12058626, 'token': 310703112, 'type': 517419, 'capital-common-countries': correct       4.000000\n",
      "incorrect    11.000000\n",
      "total        15.000000\n",
      "accuracy      0.266667\n",
      "Name: capital-common-countries, dtype: float64, 'accuracy': 0.31798066595059077}\n",
      "{'files': 'wiki*', 'deglut': 'vanila', 'sentence': 11798744, 'token': 150652347, 'type': 920965, 'capital-common-countries': correct      20.000000\n",
      "incorrect    16.000000\n",
      "total        36.000000\n",
      "accuracy      0.555556\n",
      "Name: capital-common-countries, dtype: float64, 'accuracy': 0.4617929202249483}\n",
      "{'files': 'wiki*', 'deglut': 'deglut', 'sentence': 11798744, 'token': 194135453, 'type': 611326, 'capital-common-countries': correct      39.0\n",
      "incorrect    39.0\n",
      "total        78.0\n",
      "accuracy      0.5\n",
      "Name: capital-common-countries, dtype: float64, 'accuracy': 0.3010494407553231}\n",
      "{'files': 'wiki*', 'deglut': 'deglutAllSuffSepd', 'sentence': 11798744, 'token': 200357761, 'type': 611311, 'capital-common-countries': correct      36.000000\n",
      "incorrect    42.000000\n",
      "total        78.000000\n",
      "accuracy      0.461538\n",
      "Name: capital-common-countries, dtype: float64, 'accuracy': 0.33290300385888616}\n",
      "{'files': '2017_2018_2*', 'deglut': 'vanila', 'sentence': 133832368, 'token': 2485943840, 'type': 4730753, 'capital-common-countries': correct      0.0\n",
      "incorrect    0.0\n",
      "total        0.0\n",
      "accuracy     NaN\n",
      "Name: capital-common-countries, dtype: float64, 'accuracy': 0.5793543684689584}\n",
      "{'files': '2017_2018_2*', 'deglut': 'deglut', 'sentence': 133832368, 'token': 3290697925, 'type': 2531527, 'capital-common-countries': correct       4.000000\n",
      "incorrect    11.000000\n",
      "total        15.000000\n",
      "accuracy      0.266667\n",
      "Name: capital-common-countries, dtype: float64, 'accuracy': 0.5055663825114626}\n",
      "{'files': '2017_2018_2*', 'deglut': 'deglutAllSuffSepd', 'sentence': 133832368, 'token': 3395599678, 'type': 2537195, 'capital-common-countries': correct      11.000000\n",
      "incorrect     4.000000\n",
      "total        15.000000\n",
      "accuracy      0.733333\n",
      "Name: capital-common-countries, dtype: float64, 'accuracy': 0.5196376357560568}\n"
     ]
    }
   ],
   "source": [
    "df_ = pd.DataFrame(records)"
   ]
  },
  {
   "cell_type": "code",
   "execution_count": null,
   "id": "ba2be483",
   "metadata": {},
   "outputs": [],
   "source": [
    "df_"
   ]
  },
  {
   "cell_type": "code",
   "execution_count": null,
   "id": "10575aa5",
   "metadata": {},
   "outputs": [],
   "source": [
    "df = df_.drop(columns=['deglut', 'accuracy']).groupby('files').max()\n",
    "df = df.join(pd.pivot_table(df_, values='accuracy', index='files', columns='deglut'), rsuffix='_')\n",
    "df.sort_values('sentence', inplace=True)"
   ]
  },
  {
   "cell_type": "code",
   "execution_count": null,
   "id": "e73a17b9",
   "metadata": {},
   "outputs": [],
   "source": [
    "def thousand(int_):\n",
    "    return f'{int_:,}'"
   ]
  },
  {
   "cell_type": "code",
   "execution_count": null,
   "id": "80235a7d",
   "metadata": {},
   "outputs": [],
   "source": [
    "df.apply({col: thousand if col in ['sentence', 'token', 'type'] else lambda x: x for col in df.columns})"
   ]
  },
  {
   "cell_type": "code",
   "execution_count": null,
   "id": "a86ad463",
   "metadata": {},
   "outputs": [],
   "source": [
    "df[['vanila', 'deglut', 'deglutAllSuffSepd']].plot()\n",
    "_ = plt.xticks(rotation=90)\n"
   ]
  },
  {
   "cell_type": "markdown",
   "id": "a4334e0a",
   "metadata": {},
   "source": [
    "# Investigating the strange results"
   ]
  },
  {
   "cell_type": "code",
   "execution_count": null,
   "id": "e2cec648",
   "metadata": {},
   "outputs": [],
   "source": [
    "def plot_accur_of_two_embeds(accuracies_vanila, accuracies_deglut, lname='vanila', rname='deglut', \n",
    "                             column='accuracy'):\n",
    "    accuracies = accuracies_vanila.join(accuracies_deglut, rsuffix=f'-{rname}')\n",
    "    plt.scatter(accuracies[f'{column}'], accuracies[f'{column}-{rname}'])\n",
    "    plt.xlabel(lname)\n",
    "    plt.ylabel(rname)\n",
    "    for relation, stats in accuracies.iterrows():\n",
    "        plt.annotate(relation, xy=(stats[f'{column}'], stats[f'{column}-{rname}']), rotation=45)"
   ]
  },
  {
   "cell_type": "code",
   "execution_count": null,
   "id": "0e9a07f4",
   "metadata": {},
   "outputs": [],
   "source": [
    "def get_analogy_scores_wrapper(filen_suff, deglut):\n",
    "    vecs = KeyedVectors.load(f'/mnt/permanent/Language/Hungarian/Embed/webcorpus2.0/sgns-300-{filen_suff}-{deglut}.gensim')\n",
    "    return get_analogy_scores(vecs.wv, questions)"
   ]
  },
  {
   "cell_type": "markdown",
   "id": "644609aa",
   "metadata": {},
   "source": [
    "## Two kinds of deglut"
   ]
  },
  {
   "cell_type": "markdown",
   "id": "06b93903",
   "metadata": {},
   "source": [
    "### Greatest difference"
   ]
  },
  {
   "cell_type": "code",
   "execution_count": null,
   "id": "651d979d",
   "metadata": {},
   "outputs": [],
   "source": [
    "nemeskey = get_analogy_scores_wrapper('2017_2018_2', 'deglutAllSuffSepd')"
   ]
  },
  {
   "cell_type": "code",
   "execution_count": null,
   "id": "28a6d21e",
   "metadata": {},
   "outputs": [],
   "source": [
    "twopart = get_analogy_scores_wrapper('2017_2018_2', 'deglut')"
   ]
  },
  {
   "cell_type": "code",
   "execution_count": null,
   "id": "85e778f8",
   "metadata": {},
   "outputs": [],
   "source": [
    "plot_accur_of_two_embeds(nemeskey, twopart, lname='nemeskey', rname='twopart', column='correct')"
   ]
  },
  {
   "cell_type": "markdown",
   "id": "cd24d676",
   "metadata": {},
   "source": [
    "## Larger corpus is worse"
   ]
  },
  {
   "cell_type": "markdown",
   "id": "dbb28683",
   "metadata": {},
   "source": [
    "## deglut 13G: `capital-common-countries` is worse in the larger corpus"
   ]
  },
  {
   "cell_type": "markdown",
   "id": "fc94dfcc",
   "metadata": {},
   "source": [
    "### Nemeskey-style"
   ]
  },
  {
   "cell_type": "code",
   "execution_count": null,
   "id": "0c0a5bee",
   "metadata": {},
   "outputs": [],
   "source": [
    "vecs = KeyedVectors.load('/mnt/permanent/Language/Hungarian/Embed/webcorpus2.0/sgns-300-2017_2018_2-deglutAllSuffSepd.gensim')\n",
    "accur_3G = get_analogy_scores(vecs.wv, questions)"
   ]
  },
  {
   "cell_type": "code",
   "execution_count": null,
   "id": "36879f07",
   "metadata": {},
   "outputs": [],
   "source": [
    "vecs = KeyedVectors.load('/mnt/permanent/Language/Hungarian/Embed/webcorpus2.0/sgns-300-2017_2018-deglutAllSuffSepd.gensim')\n",
    "accur_13G = get_analogy_scores(vecs.wv, questions)"
   ]
  },
  {
   "cell_type": "code",
   "execution_count": null,
   "id": "d148a286",
   "metadata": {},
   "outputs": [],
   "source": [
    "plot_accur_of_two_embeds(accur_3G, accur_13G, lname='small', rname='large')"
   ]
  },
  {
   "cell_type": "code",
   "execution_count": null,
   "id": "9769a4d6",
   "metadata": {},
   "outputs": [],
   "source": [
    "plot_accur_of_two_embeds(accur_3G, accur_13G, lname='small', rname='large', column='correct')\n",
    "#plt.xscale('log')\n",
    "#plt.yscale('log')"
   ]
  },
  {
   "cell_type": "code",
   "execution_count": null,
   "id": "ac612917",
   "metadata": {},
   "outputs": [],
   "source": [
    "accur_3G.loc['capital-common-countries']"
   ]
  },
  {
   "cell_type": "code",
   "execution_count": null,
   "id": "be8424d9",
   "metadata": {},
   "outputs": [],
   "source": [
    "accur_13G.loc['capital-common-countries']"
   ]
  },
  {
   "cell_type": "markdown",
   "id": "da2134f6",
   "metadata": {},
   "source": [
    "### two-part"
   ]
  },
  {
   "cell_type": "code",
   "execution_count": null,
   "id": "ab04d353",
   "metadata": {},
   "outputs": [],
   "source": [
    "vecs = KeyedVectors.load('/mnt/permanent/Language/Hungarian/Embed/webcorpus2.0/sgns-300-2017_2018_2-deglut.gensim')\n",
    "accur_3G = get_analogy_scores(vecs.wv, questions)"
   ]
  },
  {
   "cell_type": "code",
   "execution_count": null,
   "id": "1207f165",
   "metadata": {},
   "outputs": [],
   "source": [
    "vecs = KeyedVectors.load('/mnt/permanent/Language/Hungarian/Embed/webcorpus2.0/sgns-300-2017_2018-deglut.gensim')\n",
    "accur_13G = get_analogy_scores(vecs.wv, questions)"
   ]
  },
  {
   "cell_type": "code",
   "execution_count": null,
   "id": "bffa6368",
   "metadata": {},
   "outputs": [],
   "source": [
    "plot_accur_of_two_embeds(accur_3G, accur_13G, lname='small', rname='large')"
   ]
  },
  {
   "cell_type": "code",
   "execution_count": null,
   "id": "7c2127b8",
   "metadata": {},
   "outputs": [],
   "source": [
    "plot_accur_of_two_embeds(accur_3G, accur_13G, lname='small', rname='large', column='correct')\n",
    "#plt.xscale('log')\n",
    "#plt.yscale('log')"
   ]
  },
  {
   "cell_type": "code",
   "execution_count": null,
   "id": "189b4d7f",
   "metadata": {},
   "outputs": [],
   "source": [
    "accur_3G.loc['capital-common-countries']"
   ]
  },
  {
   "cell_type": "code",
   "execution_count": null,
   "id": "21c04730",
   "metadata": {},
   "outputs": [],
   "source": [
    "accur_13G.loc['capital-common-countries']"
   ]
  },
  {
   "cell_type": "markdown",
   "id": "f36a00a5",
   "metadata": {},
   "source": [
    "## Wiki vs similar-sized webcorpus"
   ]
  },
  {
   "cell_type": "code",
   "execution_count": null,
   "id": "c5e679d9",
   "metadata": {},
   "outputs": [],
   "source": [
    "wiki_vanl = get_analogy_scores_wrapper('wiki', 'vanila')\n",
    "wiki_dg_nemeskey = get_analogy_scores_wrapper('wiki', 'deglutAllSuffSepd')\n",
    "wiki_dg_twopart = get_analogy_scores_wrapper('wiki', 'deglut')\n",
    "webcorp_vanl = get_analogy_scores_wrapper('2017_2018_29', 'vanila')\n",
    "webcorp_dg_nemeskey = get_analogy_scores_wrapper('2017_2018_29', 'deglutAllSuffSepd')\n",
    "webcorp_dg_twopart = get_analogy_scores_wrapper('2017_2018_29', 'deglut')"
   ]
  },
  {
   "cell_type": "markdown",
   "id": "b7013ae5",
   "metadata": {},
   "source": [
    "### vanila"
   ]
  },
  {
   "cell_type": "code",
   "execution_count": null,
   "id": "c4049317",
   "metadata": {},
   "outputs": [],
   "source": [
    "plot_accur_of_two_embeds(wiki_vanl, webcorp_vanl, lname='wiki', rname='web')"
   ]
  },
  {
   "cell_type": "code",
   "execution_count": null,
   "id": "db813fb2",
   "metadata": {},
   "outputs": [],
   "source": [
    "plot_accur_of_two_embeds(wiki_vanl, webcorp_vanl, lname='wiki', rname='web', column='correct')"
   ]
  },
  {
   "cell_type": "code",
   "execution_count": null,
   "id": "bbdac24e",
   "metadata": {},
   "outputs": [],
   "source": [
    "wiki_vanl.loc['capital-common-countries']"
   ]
  },
  {
   "cell_type": "code",
   "execution_count": null,
   "id": "5ef12188",
   "metadata": {},
   "outputs": [],
   "source": [
    "webcorp_vanl.loc['capital-common-countries']"
   ]
  },
  {
   "cell_type": "markdown",
   "id": "d31b9581",
   "metadata": {},
   "source": [
    "### two-part"
   ]
  },
  {
   "cell_type": "code",
   "execution_count": null,
   "id": "16ac92c7",
   "metadata": {},
   "outputs": [],
   "source": [
    "plot_accur_of_two_embeds(wiki_dg_twopart, webcorp_dg_twopart, lname='wiki', rname='web')"
   ]
  },
  {
   "cell_type": "code",
   "execution_count": null,
   "id": "27a0f218",
   "metadata": {},
   "outputs": [],
   "source": [
    "plot_accur_of_two_embeds(wiki_dg_twopart, webcorp_dg_twopart, lname='wiki', rname='web', column='correct')"
   ]
  },
  {
   "cell_type": "markdown",
   "id": "fe1c331b",
   "metadata": {},
   "source": [
    "## Nemeskey-style"
   ]
  },
  {
   "cell_type": "code",
   "execution_count": null,
   "id": "54329f9f",
   "metadata": {},
   "outputs": [],
   "source": [
    "plot_accur_of_two_embeds(wiki_dg_nemeskey, webcorp_dg_nemeskey, lname='wiki', rname='web')"
   ]
  },
  {
   "cell_type": "code",
   "execution_count": null,
   "id": "754e2ced",
   "metadata": {},
   "outputs": [],
   "source": [
    "plot_accur_of_two_embeds(wiki_dg_nemeskey, webcorp_dg_nemeskey, lname='wiki', rname='web', column='correct')"
   ]
  },
  {
   "cell_type": "markdown",
   "id": "4b6ba8b9",
   "metadata": {},
   "source": [
    "# Sanity check of the gluten-free embed"
   ]
  },
  {
   "cell_type": "code",
   "execution_count": null,
   "id": "185bc050",
   "metadata": {},
   "outputs": [],
   "source": [
    "vectors_vanila = KeyedVectors.load(\n",
    "    '/mnt/permanent/Language/Hungarian/Embed/webcorpus2.0/sgns-300-2017_2018-vanila.gensim').wv"
   ]
  },
  {
   "cell_type": "code",
   "execution_count": null,
   "id": "efd1f977",
   "metadata": {},
   "outputs": [],
   "source": [
    "vectors_vanila.most_similar('menekít')"
   ]
  },
  {
   "cell_type": "code",
   "execution_count": null,
   "id": "3e4b72e6",
   "metadata": {},
   "outputs": [],
   "source": [
    "accuracies_vanila = get_analogy_scores(vectors_vanila, questions)"
   ]
  },
  {
   "cell_type": "code",
   "execution_count": null,
   "id": "63e6f29c",
   "metadata": {},
   "outputs": [],
   "source": [
    "vectors_deglut = KeyedVectors.load(\n",
    "    '/mnt/permanent/Language/Hungarian/Embed/webcorpus2.0/sgns-300-2017_2018-deglut.gensim').wv"
   ]
  },
  {
   "cell_type": "code",
   "execution_count": null,
   "id": "3a6b8ef7",
   "metadata": {},
   "outputs": [],
   "source": [
    "vectors_deglut.most_similar('menekít')"
   ]
  },
  {
   "cell_type": "code",
   "execution_count": null,
   "id": "8dcf8cf1",
   "metadata": {},
   "outputs": [],
   "source": [
    "accuracies_deglut = get_analogy_scores(vectors_deglut, questions)"
   ]
  }
 ],
 "metadata": {
  "kernelspec": {
   "display_name": "Python 3 (ipykernel)",
   "language": "python",
   "name": "python3"
  },
  "language_info": {
   "codemirror_mode": {
    "name": "ipython",
    "version": 3
   },
   "file_extension": ".py",
   "mimetype": "text/x-python",
   "name": "python",
   "nbconvert_exporter": "python",
   "pygments_lexer": "ipython3",
   "version": "3.10.8"
  }
 },
 "nbformat": 4,
 "nbformat_minor": 5
}
