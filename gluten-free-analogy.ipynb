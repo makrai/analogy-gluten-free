{
 "cells": [
  {
   "cell_type": "code",
   "execution_count": 1,
   "id": "58f9ecd1",
   "metadata": {},
   "outputs": [],
   "source": [
    "from gensim.models import KeyedVectors\n",
    "from gensim.test import test_data\n",
    "import pandas as pd\n",
    "import matplotlib.pyplot as plt"
   ]
  },
  {
   "cell_type": "code",
   "execution_count": 4,
   "id": "f6b6b64e",
   "metadata": {},
   "outputs": [],
   "source": [
    "questions_en = '/home/levai/.miniconda3/envs/gensim/lib/python3.8/site-packages/gensim/test/test_data/questions-words.txt'"
   ]
  },
  {
   "cell_type": "code",
   "execution_count": 6,
   "id": "b1353d45",
   "metadata": {},
   "outputs": [],
   "source": [
    "questions = '/mnt/permanent/Language/Hungarian/Embed/questions-words-hu/questions-words-hu.txt'"
   ]
  },
  {
   "cell_type": "code",
   "execution_count": 2,
   "id": "c63dd471",
   "metadata": {},
   "outputs": [],
   "source": [
    "vectors_en = KeyedVectors.load('/mnt/permanent/Language/English/Embed/glove.840B.300d.gensim')"
   ]
  },
  {
   "cell_type": "code",
   "execution_count": 3,
   "id": "6ed5d689",
   "metadata": {},
   "outputs": [],
   "source": [
    "vectors = KeyedVectors.load('/mnt/permanent/Language/Hungarian/Embed/mnsz2/glf/mnsz-glf-sgram-600.gensim')"
   ]
  },
  {
   "cell_type": "code",
   "execution_count": 5,
   "id": "e64df79b",
   "metadata": {},
   "outputs": [],
   "source": [
    "def get_accuracies(vectors, questions):\n",
    "    score, sections = vectors.evaluate_word_analogies(questions)\n",
    "    print(score)\n",
    "    df_ = pd.DataFrame(sections)\n",
    "    df_.set_index('section', inplace=True)\n",
    "    df = df_.apply({'correct': len, 'incorrect': len})\n",
    "    df['total'] = df.sum(axis=1)\n",
    "    df['accuracy'] = df.correct / df.total\n",
    "    df.drop(index=['Total accuracy'], inplace=True)\n",
    "    return df"
   ]
  },
  {
   "cell_type": "code",
   "execution_count": 7,
   "id": "21389a95",
   "metadata": {},
   "outputs": [
    {
     "name": "stdout",
     "output_type": "stream",
     "text": [
      "0.7682115764314663\n"
     ]
    }
   ],
   "source": [
    "df_en = get_accuracies(vectors_en, questions_en)"
   ]
  },
  {
   "cell_type": "code",
   "execution_count": 9,
   "id": "1e8e2586",
   "metadata": {},
   "outputs": [
    {
     "name": "stdout",
     "output_type": "stream",
     "text": [
      "0.19274598701139567\n"
     ]
    }
   ],
   "source": [
    "df = get_accuracies(vectors, questions)"
   ]
  },
  {
   "cell_type": "code",
   "execution_count": 10,
   "id": "87cf788a",
   "metadata": {},
   "outputs": [
    {
     "data": {
      "text/plain": [
       "<matplotlib.collections.PathCollection at 0x7f8af2e9d7b0>"
      ]
     },
     "execution_count": 10,
     "metadata": {},
     "output_type": "execute_result"
    },
    {
     "data": {
      "image/png": "[encoded data removed]",
      "text/plain": [
       "<Figure size 640x480 with 1 Axes>"
      ]
     },
     "metadata": {},
     "output_type": "display_data"
    }
   ],
   "source": [
    "plt.scatter(df_en.total, df_en.accuracy)"
   ]
  },
  {
   "cell_type": "code",
   "execution_count": 11,
   "id": "bf64803d",
   "metadata": {},
   "outputs": [
    {
     "data": {
      "text/plain": [
       "<matplotlib.collections.PathCollection at 0x7f8af2825870>"
      ]
     },
     "execution_count": 11,
     "metadata": {},
     "output_type": "execute_result"
    },
    {
     "data": {
      "image/png": "[encoded data removed]",
      "text/plain": [
       "<Figure size 640x480 with 1 Axes>"
      ]
     },
     "metadata": {},
     "output_type": "display_data"
    }
   ],
   "source": [
    "plt.scatter(df.total, df.accuracy)"
   ]
  },
  {
   "cell_type": "markdown",
   "id": "72a9148e",
   "metadata": {},
   "source": [
    "# Webcorpus 2.0"
   ]
  },
  {
   "cell_type": "code",
   "execution_count": 16,
   "id": "5fe00039",
   "metadata": {},
   "outputs": [],
   "source": [
    "def mean_semantic_accurcy(filen='sgns-300-2017_2018_2956-vanila'):\n",
    "    model = KeyedVectors.load(f'/mnt/permanent/Language/Hungarian/Embed/webcorpus2.0/{filen}')\n",
    "    df = get_accuracies(model.wv, questions)\n",
    "    return df[~df.index.str.startswith('gram')].accuracy.mean()"
   ]
  },
  {
   "cell_type": "code",
   "execution_count": 17,
   "id": "4889c284",
   "metadata": {},
   "outputs": [
    {
     "name": "stdout",
     "output_type": "stream",
     "text": [
      "0.000782472613458529\n"
     ]
    },
    {
     "data": {
      "text/plain": [
       "0.0"
      ]
     },
     "execution_count": 17,
     "metadata": {},
     "output_type": "execute_result"
    }
   ],
   "source": [
    "mean_semantic_accurcy('sgns-300-2017_2018_2956-vanila')"
   ]
  },
  {
   "cell_type": "code",
   "execution_count": 18,
   "id": "766e1410",
   "metadata": {},
   "outputs": [
    {
     "name": "stdout",
     "output_type": "stream",
     "text": [
      "0.0\n"
     ]
    },
    {
     "data": {
      "text/plain": [
       "0.0"
      ]
     },
     "execution_count": 18,
     "metadata": {},
     "output_type": "execute_result"
    }
   ],
   "source": [
    "mean_semantic_accurcy('sgns-300-2017_2018_2956-deglut')"
   ]
  },
  {
   "cell_type": "code",
   "execution_count": 28,
   "id": "4acead5f",
   "metadata": {},
   "outputs": [
    {
     "name": "stdout",
     "output_type": "stream",
     "text": [
      "0.054322429906542055\n"
     ]
    },
    {
     "data": {
      "text/plain": [
       "0.02938912938912939"
      ]
     },
     "execution_count": 28,
     "metadata": {},
     "output_type": "execute_result"
    }
   ],
   "source": [
    "mean_semantic_accurcy('sgns-300-2017_2018_295-vanila')"
   ]
  },
  {
   "cell_type": "code",
   "execution_count": 29,
   "id": "bca3fd00",
   "metadata": {},
   "outputs": [
    {
     "name": "stdout",
     "output_type": "stream",
     "text": [
      "0.008741258741258742\n"
     ]
    },
    {
     "data": {
      "text/plain": [
       "0.03550724637681159"
      ]
     },
     "execution_count": 29,
     "metadata": {},
     "output_type": "execute_result"
    }
   ],
   "source": [
    "mean_semantic_accurcy('sgns-300-2017_2018_295-deglut')"
   ]
  },
  {
   "cell_type": "code",
   "execution_count": 19,
   "id": "0e0f313d",
   "metadata": {},
   "outputs": [],
   "source": [
    "model = KeyedVectors.load('/mnt/permanent/Language/Hungarian/Embed/webcorpus2.0/sgns-300-2017_2018_2956-vanila')"
   ]
  },
  {
   "cell_type": "code",
   "execution_count": 27,
   "id": "c47173be",
   "metadata": {},
   "outputs": [
    {
     "data": {
      "text/plain": [
       "[('Yankee', 0.5162225961685181),\n",
       " ('Candle', 0.49882271885871887),\n",
       " ('változatok', 0.4969162046909332),\n",
       " ('Ekkor', 0.4967857897281647),\n",
       " ('alapítója', 0.4961995482444763),\n",
       " ('íródni', 0.490958571434021),\n",
       " ('Vichy', 0.48201823234558105),\n",
       " ('ügyfélkezelésre', 0.4787764847278595),\n",
       " ('Gun', 0.47692400217056274),\n",
       " ('mindazokat', 0.47268223762512207)]"
      ]
     },
     "execution_count": 27,
     "metadata": {},
     "output_type": "execute_result"
    }
   ],
   "source": [
    "model.wv.most_similar('márka')"
   ]
  }
 ],
 "metadata": {
  "kernelspec": {
   "display_name": "Python 3 (ipykernel)",
   "language": "python",
   "name": "python3"
  },
  "language_info": {
   "codemirror_mode": {
    "name": "ipython",
    "version": 3
   },
   "file_extension": ".py",
   "mimetype": "text/x-python",
   "name": "python",
   "nbconvert_exporter": "python",
   "pygments_lexer": "ipython3",
   "version": "3.10.8"
  }
 },
 "nbformat": 4,
 "nbformat_minor": 5
}
