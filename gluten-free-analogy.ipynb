{
 "cells": [
  {
   "cell_type": "code",
   "execution_count": 1,
   "id": "58f9ecd1",
   "metadata": {},
   "outputs": [],
   "source": [
    "from gensim.models import KeyedVectors\n",
    "from gensim.test import test_data\n",
    "import pandas as pd\n",
    "import matplotlib.pyplot as plt"
   ]
  },
  {
   "cell_type": "code",
   "execution_count": 2,
   "id": "f6b6b64e",
   "metadata": {},
   "outputs": [],
   "source": [
    "questions_en = '/home/levai/.miniconda3/envs/gensim/lib/python3.8/site-packages/gensim/test/test_data/questions-words.txt'"
   ]
  },
  {
   "cell_type": "code",
   "execution_count": 3,
   "id": "b1353d45",
   "metadata": {},
   "outputs": [],
   "source": [
    "questions = '/mnt/permanent/Language/Hungarian/Embed/questions-words-hu/questions-words-hu.txt'"
   ]
  },
  {
   "cell_type": "code",
   "execution_count": 4,
   "id": "c63dd471",
   "metadata": {},
   "outputs": [],
   "source": [
    "vectors_en = KeyedVectors.load('/mnt/permanent/Language/English/Embed/glove.840B.300d.gensim')"
   ]
  },
  {
   "cell_type": "code",
   "execution_count": 5,
   "id": "6ed5d689",
   "metadata": {},
   "outputs": [],
   "source": [
    "vectors = KeyedVectors.load('/mnt/permanent/Language/Hungarian/Embed/mnsz2/glf/mnsz-glf-sgram-600.gensim')"
   ]
  },
  {
   "cell_type": "code",
   "execution_count": 6,
   "id": "8950a2f7",
   "metadata": {},
   "outputs": [],
   "source": [
    "embed_dir = '/mnt/permanent/Language/Hungarian/Embed/webcorpus2.0'"
   ]
  },
  {
   "cell_type": "code",
   "execution_count": 7,
   "id": "e64df79b",
   "metadata": {},
   "outputs": [],
   "source": [
    "def get_accuracies(vectors, questions):\n",
    "    score, sections = vectors.evaluate_word_analogies(questions)\n",
    "    #print(score)\n",
    "    df_ = pd.DataFrame(sections)\n",
    "    df_.set_index('section', inplace=True)\n",
    "    df = df_.apply({'correct': len, 'incorrect': len})\n",
    "    df['total'] = df.sum(axis=1)\n",
    "    df['accuracy'] = df.correct / df.total\n",
    "    df.drop(index=['Total accuracy'], inplace=True)\n",
    "    return df"
   ]
  },
  {
   "cell_type": "markdown",
   "id": "caa8a92e",
   "metadata": {},
   "source": [
    "# English"
   ]
  },
  {
   "cell_type": "code",
   "execution_count": 9,
   "id": "21389a95",
   "metadata": {},
   "outputs": [
    {
     "name": "stdout",
     "output_type": "stream",
     "text": [
      "0.7682115764314663\n"
     ]
    }
   ],
   "source": [
    "df_en = get_accuracies(vectors_en, questions_en)"
   ]
  },
  {
   "cell_type": "code",
   "execution_count": 10,
   "id": "1e8e2586",
   "metadata": {},
   "outputs": [
    {
     "name": "stdout",
     "output_type": "stream",
     "text": [
      "0.19274598701139567\n"
     ]
    }
   ],
   "source": [
    "df = get_accuracies(vectors, questions)"
   ]
  },
  {
   "cell_type": "code",
   "execution_count": 11,
   "id": "87cf788a",
   "metadata": {},
   "outputs": [
    {
     "data": {
      "text/plain": [
       "<matplotlib.collections.PathCollection at 0x7f3908d452a0>"
      ]
     },
     "execution_count": 11,
     "metadata": {},
     "output_type": "execute_result"
    },
    {
     "data": {
      "image/png": "[encoded data removed]",
      "text/plain": [
       "<Figure size 640x480 with 1 Axes>"
      ]
     },
     "metadata": {},
     "output_type": "display_data"
    }
   ],
   "source": [
    "plt.scatter(df_en.total, df_en.accuracy)"
   ]
  },
  {
   "cell_type": "code",
   "execution_count": 12,
   "id": "bf64803d",
   "metadata": {},
   "outputs": [
    {
     "data": {
      "text/plain": [
       "<matplotlib.collections.PathCollection at 0x7f39107c5840>"
      ]
     },
     "execution_count": 12,
     "metadata": {},
     "output_type": "execute_result"
    },
    {
     "data": {
      "image/png": "[encoded data removed]",
      "text/plain": [
       "<Figure size 640x480 with 1 Axes>"
      ]
     },
     "metadata": {},
     "output_type": "display_data"
    }
   ],
   "source": [
    "plt.scatter(df.total, df.accuracy)"
   ]
  },
  {
   "cell_type": "markdown",
   "id": "72a9148e",
   "metadata": {},
   "source": [
    "# Webcorpus 2.0: gluten-free and vanila"
   ]
  },
  {
   "cell_type": "code",
   "execution_count": 8,
   "id": "5fe00039",
   "metadata": {},
   "outputs": [],
   "source": [
    "def mean_semantic_accurcy(model):\n",
    "    df = get_accuracies(model.wv, questions)\n",
    "    return df[~df.index.str.startswith('gram')].accuracy.mean()"
   ]
  },
  {
   "cell_type": "code",
   "execution_count": 9,
   "id": "08926e61",
   "metadata": {},
   "outputs": [],
   "source": [
    "file_patterns = ['2017_2018_2956', '2017_2018_295', '2017_2018_29', '2017_2018_2', 'wiki', '2017_2018']#, '201', '']\n",
    "def get_accuracy_by_size():\n",
    "    for file_pattern in file_patterns:\n",
    "        for deglutinate_ in ['vanila', 'deglut']:\n",
    "            try:\n",
    "                model = KeyedVectors.load(f'{embed_dir}/sgns-300-{file_pattern}-{deglutinate_}.gensim')\n",
    "            except FileNotFoundError:\n",
    "                break\n",
    "            record = ({\n",
    "                'files': f'{file_pattern}*',\n",
    "                'deglut' : deglutinate_,\n",
    "                'sentence': model.corpus_count, \n",
    "                'token': model.corpus_total_words, \n",
    "                'type': len(model.wv.key_to_index),\n",
    "                'accuracy': mean_semantic_accurcy(model)})#f'{:.0%}'\n",
    "            print(record)\n",
    "            yield record"
   ]
  },
  {
   "cell_type": "code",
   "execution_count": 10,
   "id": "0e0f313d",
   "metadata": {},
   "outputs": [],
   "source": [
    "records = get_accuracy_by_size()"
   ]
  },
  {
   "cell_type": "code",
   "execution_count": 11,
   "id": "c47173be",
   "metadata": {},
   "outputs": [
    {
     "name": "stdout",
     "output_type": "stream",
     "text": [
      "{'files': '2017_2018_2956*', 'deglut': 'vanila', 'sentence': 66798, 'token': 894741, 'type': 9388, 'accuracy': 0.0}\n",
      "{'files': '2017_2018_2956*', 'deglut': 'deglut', 'sentence': 66798, 'token': 1192818, 'type': 6739, 'accuracy': 0.06666666666666667}\n",
      "{'files': '2017_2018_295*', 'deglut': 'vanila', 'sentence': 879317, 'token': 16948301, 'type': 149981, 'accuracy': 0.02938912938912939}\n",
      "{'files': '2017_2018_295*', 'deglut': 'deglut', 'sentence': 879317, 'token': 22585465, 'type': 77302, 'accuracy': 0.03741929094870271}\n",
      "{'files': '2017_2018_29*', 'deglut': 'vanila', 'sentence': 12058626, 'token': 228013641, 'type': 1028343, 'accuracy': 0.08137027271617372}\n",
      "{'files': '2017_2018_29*', 'deglut': 'deglut', 'sentence': 12058626, 'token': 228013669, 'type': 987379, 'accuracy': 0.09646544159516732}\n",
      "{'files': '2017_2018_2*', 'deglut': 'vanila', 'sentence': 133832368, 'token': 2485943840, 'type': 4730753, 'accuracy': 0.29344167530628085}\n",
      "{'files': '2017_2018_2*', 'deglut': 'deglut', 'sentence': 133832368, 'token': 2485946156, 'type': 4513971, 'accuracy': 0.2986262577914121}\n",
      "{'files': 'wiki*', 'deglut': 'vanila', 'sentence': 11798744, 'token': 150652347, 'type': 920965, 'accuracy': 0.15880783137524812}\n",
      "{'files': 'wiki*', 'deglut': 'deglut', 'sentence': 11798744, 'token': 194135453, 'type': 611326, 'accuracy': 0.1762358103456167}\n",
      "{'files': '2017_2018*', 'deglut': 'vanila', 'sentence': 511812157, 'token': 9640537495, 'type': 11400728, 'accuracy': 0.4269572516681378}\n"
     ]
    }
   ],
   "source": [
    "df_ = pd.DataFrame(records)"
   ]
  },
  {
   "cell_type": "code",
   "execution_count": 12,
   "id": "ba2be483",
   "metadata": {},
   "outputs": [
    {
     "data": {
      "text/html": [
       "<div>\n",
       "<style scoped>\n",
       "    .dataframe tbody tr th:only-of-type {\n",
       "        vertical-align: middle;\n",
       "    }\n",
       "\n",
       "    .dataframe tbody tr th {\n",
       "        vertical-align: top;\n",
       "    }\n",
       "\n",
       "    .dataframe thead th {\n",
       "        text-align: right;\n",
       "    }\n",
       "</style>\n",
       "<table border=\"1\" class=\"dataframe\">\n",
       "  <thead>\n",
       "    <tr style=\"text-align: right;\">\n",
       "      <th></th>\n",
       "      <th>files</th>\n",
       "      <th>deglut</th>\n",
       "      <th>sentence</th>\n",
       "      <th>token</th>\n",
       "      <th>type</th>\n",
       "      <th>accuracy</th>\n",
       "    </tr>\n",
       "  </thead>\n",
       "  <tbody>\n",
       "    <tr>\n",
       "      <th>0</th>\n",
       "      <td>2017_2018_2956*</td>\n",
       "      <td>vanila</td>\n",
       "      <td>66798</td>\n",
       "      <td>894741</td>\n",
       "      <td>9388</td>\n",
       "      <td>0.000000</td>\n",
       "    </tr>\n",
       "    <tr>\n",
       "      <th>1</th>\n",
       "      <td>2017_2018_2956*</td>\n",
       "      <td>deglut</td>\n",
       "      <td>66798</td>\n",
       "      <td>1192818</td>\n",
       "      <td>6739</td>\n",
       "      <td>0.066667</td>\n",
       "    </tr>\n",
       "    <tr>\n",
       "      <th>2</th>\n",
       "      <td>2017_2018_295*</td>\n",
       "      <td>vanila</td>\n",
       "      <td>879317</td>\n",
       "      <td>16948301</td>\n",
       "      <td>149981</td>\n",
       "      <td>0.029389</td>\n",
       "    </tr>\n",
       "    <tr>\n",
       "      <th>3</th>\n",
       "      <td>2017_2018_295*</td>\n",
       "      <td>deglut</td>\n",
       "      <td>879317</td>\n",
       "      <td>22585465</td>\n",
       "      <td>77302</td>\n",
       "      <td>0.037419</td>\n",
       "    </tr>\n",
       "    <tr>\n",
       "      <th>4</th>\n",
       "      <td>2017_2018_29*</td>\n",
       "      <td>vanila</td>\n",
       "      <td>12058626</td>\n",
       "      <td>228013641</td>\n",
       "      <td>1028343</td>\n",
       "      <td>0.081370</td>\n",
       "    </tr>\n",
       "    <tr>\n",
       "      <th>5</th>\n",
       "      <td>2017_2018_29*</td>\n",
       "      <td>deglut</td>\n",
       "      <td>12058626</td>\n",
       "      <td>228013669</td>\n",
       "      <td>987379</td>\n",
       "      <td>0.096465</td>\n",
       "    </tr>\n",
       "    <tr>\n",
       "      <th>6</th>\n",
       "      <td>2017_2018_2*</td>\n",
       "      <td>vanila</td>\n",
       "      <td>133832368</td>\n",
       "      <td>2485943840</td>\n",
       "      <td>4730753</td>\n",
       "      <td>0.293442</td>\n",
       "    </tr>\n",
       "    <tr>\n",
       "      <th>7</th>\n",
       "      <td>2017_2018_2*</td>\n",
       "      <td>deglut</td>\n",
       "      <td>133832368</td>\n",
       "      <td>2485946156</td>\n",
       "      <td>4513971</td>\n",
       "      <td>0.298626</td>\n",
       "    </tr>\n",
       "    <tr>\n",
       "      <th>8</th>\n",
       "      <td>wiki*</td>\n",
       "      <td>vanila</td>\n",
       "      <td>11798744</td>\n",
       "      <td>150652347</td>\n",
       "      <td>920965</td>\n",
       "      <td>0.158808</td>\n",
       "    </tr>\n",
       "    <tr>\n",
       "      <th>9</th>\n",
       "      <td>wiki*</td>\n",
       "      <td>deglut</td>\n",
       "      <td>11798744</td>\n",
       "      <td>194135453</td>\n",
       "      <td>611326</td>\n",
       "      <td>0.176236</td>\n",
       "    </tr>\n",
       "    <tr>\n",
       "      <th>10</th>\n",
       "      <td>2017_2018*</td>\n",
       "      <td>vanila</td>\n",
       "      <td>511812157</td>\n",
       "      <td>9640537495</td>\n",
       "      <td>11400728</td>\n",
       "      <td>0.426957</td>\n",
       "    </tr>\n",
       "  </tbody>\n",
       "</table>\n",
       "</div>"
      ],
      "text/plain": [
       "              files  deglut   sentence       token      type  accuracy\n",
       "0   2017_2018_2956*  vanila      66798      894741      9388  0.000000\n",
       "1   2017_2018_2956*  deglut      66798     1192818      6739  0.066667\n",
       "2    2017_2018_295*  vanila     879317    16948301    149981  0.029389\n",
       "3    2017_2018_295*  deglut     879317    22585465     77302  0.037419\n",
       "4     2017_2018_29*  vanila   12058626   228013641   1028343  0.081370\n",
       "5     2017_2018_29*  deglut   12058626   228013669    987379  0.096465\n",
       "6      2017_2018_2*  vanila  133832368  2485943840   4730753  0.293442\n",
       "7      2017_2018_2*  deglut  133832368  2485946156   4513971  0.298626\n",
       "8             wiki*  vanila   11798744   150652347    920965  0.158808\n",
       "9             wiki*  deglut   11798744   194135453    611326  0.176236\n",
       "10       2017_2018*  vanila  511812157  9640537495  11400728  0.426957"
      ]
     },
     "execution_count": 12,
     "metadata": {},
     "output_type": "execute_result"
    }
   ],
   "source": [
    "df_"
   ]
  },
  {
   "cell_type": "code",
   "execution_count": 13,
   "id": "10575aa5",
   "metadata": {},
   "outputs": [],
   "source": [
    "df = df_.drop(columns=['deglut', 'accuracy']).groupby('files').max()\n",
    "df = df.join(pd.pivot_table(df_, values='accuracy', index='files', columns='deglut'), rsuffix='_')\n",
    "df.sort_values('sentence', inplace=True)"
   ]
  },
  {
   "cell_type": "code",
   "execution_count": 14,
   "id": "80235a7d",
   "metadata": {},
   "outputs": [
    {
     "data": {
      "text/html": [
       "<div>\n",
       "<style scoped>\n",
       "    .dataframe tbody tr th:only-of-type {\n",
       "        vertical-align: middle;\n",
       "    }\n",
       "\n",
       "    .dataframe tbody tr th {\n",
       "        vertical-align: top;\n",
       "    }\n",
       "\n",
       "    .dataframe thead th {\n",
       "        text-align: right;\n",
       "    }\n",
       "</style>\n",
       "<table border=\"1\" class=\"dataframe\">\n",
       "  <thead>\n",
       "    <tr style=\"text-align: right;\">\n",
       "      <th></th>\n",
       "      <th>sentence</th>\n",
       "      <th>token</th>\n",
       "      <th>type</th>\n",
       "      <th>deglut</th>\n",
       "      <th>vanila</th>\n",
       "    </tr>\n",
       "    <tr>\n",
       "      <th>files</th>\n",
       "      <th></th>\n",
       "      <th></th>\n",
       "      <th></th>\n",
       "      <th></th>\n",
       "      <th></th>\n",
       "    </tr>\n",
       "  </thead>\n",
       "  <tbody>\n",
       "    <tr>\n",
       "      <th>2017_2018_2956*</th>\n",
       "      <td>66798</td>\n",
       "      <td>1192818</td>\n",
       "      <td>9388</td>\n",
       "      <td>0.066667</td>\n",
       "      <td>0.000000</td>\n",
       "    </tr>\n",
       "    <tr>\n",
       "      <th>2017_2018_295*</th>\n",
       "      <td>879317</td>\n",
       "      <td>22585465</td>\n",
       "      <td>149981</td>\n",
       "      <td>0.037419</td>\n",
       "      <td>0.029389</td>\n",
       "    </tr>\n",
       "    <tr>\n",
       "      <th>wiki*</th>\n",
       "      <td>11798744</td>\n",
       "      <td>194135453</td>\n",
       "      <td>920965</td>\n",
       "      <td>0.176236</td>\n",
       "      <td>0.158808</td>\n",
       "    </tr>\n",
       "    <tr>\n",
       "      <th>2017_2018_29*</th>\n",
       "      <td>12058626</td>\n",
       "      <td>228013669</td>\n",
       "      <td>1028343</td>\n",
       "      <td>0.096465</td>\n",
       "      <td>0.081370</td>\n",
       "    </tr>\n",
       "    <tr>\n",
       "      <th>2017_2018_2*</th>\n",
       "      <td>133832368</td>\n",
       "      <td>2485946156</td>\n",
       "      <td>4730753</td>\n",
       "      <td>0.298626</td>\n",
       "      <td>0.293442</td>\n",
       "    </tr>\n",
       "    <tr>\n",
       "      <th>2017_2018*</th>\n",
       "      <td>511812157</td>\n",
       "      <td>9640537495</td>\n",
       "      <td>11400728</td>\n",
       "      <td>NaN</td>\n",
       "      <td>0.426957</td>\n",
       "    </tr>\n",
       "  </tbody>\n",
       "</table>\n",
       "</div>"
      ],
      "text/plain": [
       "                  sentence       token      type    deglut    vanila\n",
       "files                                                               \n",
       "2017_2018_2956*      66798     1192818      9388  0.066667  0.000000\n",
       "2017_2018_295*      879317    22585465    149981  0.037419  0.029389\n",
       "wiki*             11798744   194135453    920965  0.176236  0.158808\n",
       "2017_2018_29*     12058626   228013669   1028343  0.096465  0.081370\n",
       "2017_2018_2*     133832368  2485946156   4730753  0.298626  0.293442\n",
       "2017_2018*       511812157  9640537495  11400728       NaN  0.426957"
      ]
     },
     "execution_count": 14,
     "metadata": {},
     "output_type": "execute_result"
    }
   ],
   "source": [
    "df"
   ]
  },
  {
   "cell_type": "code",
   "execution_count": 15,
   "id": "a86ad463",
   "metadata": {},
   "outputs": [
    {
     "data": {
      "text/plain": [
       "<Axes: xlabel='files'>"
      ]
     },
     "execution_count": 15,
     "metadata": {},
     "output_type": "execute_result"
    },
    {
     "data": {
      "image/png": "[encoded data removed]",
      "text/plain": [
       "<Figure size 640x480 with 1 Axes>"
      ]
     },
     "metadata": {},
     "output_type": "display_data"
    }
   ],
   "source": [
    "df[['deglut', 'vanila']].plot()\n"
   ]
  },
  {
   "cell_type": "code",
   "execution_count": 16,
   "id": "40052225",
   "metadata": {
    "scrolled": true
   },
   "outputs": [
    {
     "data": {
      "image/png": "[encoded data removed]",
      "text/plain": [
       "<Figure size 640x480 with 1 Axes>"
      ]
     },
     "metadata": {},
     "output_type": "display_data"
    }
   ],
   "source": [
    "df.plot()\n",
    "plt.yscale('log')"
   ]
  },
  {
   "cell_type": "markdown",
   "id": "4b6ba8b9",
   "metadata": {},
   "source": [
    "# Error analysis in the best model"
   ]
  },
  {
   "cell_type": "code",
   "execution_count": 59,
   "id": "63e6f29c",
   "metadata": {},
   "outputs": [],
   "source": [
    "vectors = KeyedVectors.load(\n",
    "    '/mnt/permanent/Language/Hungarian/Embed/webcorpus2.0/sgns-300-2017_2018_2-vanila.gensim').wv"
   ]
  },
  {
   "cell_type": "code",
   "execution_count": 60,
   "id": "4d2425a3",
   "metadata": {},
   "outputs": [
    {
     "name": "stdout",
     "output_type": "stream",
     "text": [
      "CPU times: user 17min 53s, sys: 9.6 s, total: 18min 3s\n",
      "Wall time: 1min 32s\n"
     ]
    },
    {
     "data": {
      "text/html": [
       "<div>\n",
       "<style scoped>\n",
       "    .dataframe tbody tr th:only-of-type {\n",
       "        vertical-align: middle;\n",
       "    }\n",
       "\n",
       "    .dataframe tbody tr th {\n",
       "        vertical-align: top;\n",
       "    }\n",
       "\n",
       "    .dataframe thead th {\n",
       "        text-align: right;\n",
       "    }\n",
       "</style>\n",
       "<table border=\"1\" class=\"dataframe\">\n",
       "  <thead>\n",
       "    <tr style=\"text-align: right;\">\n",
       "      <th></th>\n",
       "      <th>correct</th>\n",
       "      <th>incorrect</th>\n",
       "      <th>total</th>\n",
       "      <th>accuracy</th>\n",
       "    </tr>\n",
       "    <tr>\n",
       "      <th>section</th>\n",
       "      <th></th>\n",
       "      <th></th>\n",
       "      <th></th>\n",
       "      <th></th>\n",
       "    </tr>\n",
       "  </thead>\n",
       "  <tbody>\n",
       "    <tr>\n",
       "      <th>capital-common-countries</th>\n",
       "      <td>66</td>\n",
       "      <td>124</td>\n",
       "      <td>190</td>\n",
       "      <td>0.347368</td>\n",
       "    </tr>\n",
       "    <tr>\n",
       "      <th>capital-world</th>\n",
       "      <td>720</td>\n",
       "      <td>2440</td>\n",
       "      <td>3160</td>\n",
       "      <td>0.227848</td>\n",
       "    </tr>\n",
       "    <tr>\n",
       "      <th>county-ceter</th>\n",
       "      <td>38</td>\n",
       "      <td>133</td>\n",
       "      <td>171</td>\n",
       "      <td>0.222222</td>\n",
       "    </tr>\n",
       "    <tr>\n",
       "      <th>currency</th>\n",
       "      <td>54</td>\n",
       "      <td>352</td>\n",
       "      <td>406</td>\n",
       "      <td>0.133005</td>\n",
       "    </tr>\n",
       "    <tr>\n",
       "      <th>family</th>\n",
       "      <td>73</td>\n",
       "      <td>63</td>\n",
       "      <td>136</td>\n",
       "      <td>0.536765</td>\n",
       "    </tr>\n",
       "    <tr>\n",
       "      <th>gram1-adjective-to-adverb</th>\n",
       "      <td>153</td>\n",
       "      <td>627</td>\n",
       "      <td>780</td>\n",
       "      <td>0.196154</td>\n",
       "    </tr>\n",
       "    <tr>\n",
       "      <th>gram2-opposite</th>\n",
       "      <td>66</td>\n",
       "      <td>369</td>\n",
       "      <td>435</td>\n",
       "      <td>0.151724</td>\n",
       "    </tr>\n",
       "    <tr>\n",
       "      <th>gram3-comparative</th>\n",
       "      <td>476</td>\n",
       "      <td>304</td>\n",
       "      <td>780</td>\n",
       "      <td>0.610256</td>\n",
       "    </tr>\n",
       "    <tr>\n",
       "      <th>gram4-superlative</th>\n",
       "      <td>364</td>\n",
       "      <td>416</td>\n",
       "      <td>780</td>\n",
       "      <td>0.466667</td>\n",
       "    </tr>\n",
       "    <tr>\n",
       "      <th>gram5-present-participle</th>\n",
       "      <td>46</td>\n",
       "      <td>482</td>\n",
       "      <td>528</td>\n",
       "      <td>0.087121</td>\n",
       "    </tr>\n",
       "    <tr>\n",
       "      <th>gram6-nationality-adjective</th>\n",
       "      <td>374</td>\n",
       "      <td>406</td>\n",
       "      <td>780</td>\n",
       "      <td>0.479487</td>\n",
       "    </tr>\n",
       "    <tr>\n",
       "      <th>gram7-past-tense</th>\n",
       "      <td>727</td>\n",
       "      <td>53</td>\n",
       "      <td>780</td>\n",
       "      <td>0.932051</td>\n",
       "    </tr>\n",
       "    <tr>\n",
       "      <th>gram8-plural-noun</th>\n",
       "      <td>381</td>\n",
       "      <td>399</td>\n",
       "      <td>780</td>\n",
       "      <td>0.488462</td>\n",
       "    </tr>\n",
       "    <tr>\n",
       "      <th>gram9-plural-verb</th>\n",
       "      <td>726</td>\n",
       "      <td>54</td>\n",
       "      <td>780</td>\n",
       "      <td>0.930769</td>\n",
       "    </tr>\n",
       "  </tbody>\n",
       "</table>\n",
       "</div>"
      ],
      "text/plain": [
       "                             correct  incorrect  total  accuracy\n",
       "section                                                         \n",
       "capital-common-countries          66        124    190  0.347368\n",
       "capital-world                    720       2440   3160  0.227848\n",
       "county-ceter                      38        133    171  0.222222\n",
       "currency                          54        352    406  0.133005\n",
       "family                            73         63    136  0.536765\n",
       "gram1-adjective-to-adverb        153        627    780  0.196154\n",
       "gram2-opposite                    66        369    435  0.151724\n",
       "gram3-comparative                476        304    780  0.610256\n",
       "gram4-superlative                364        416    780  0.466667\n",
       "gram5-present-participle          46        482    528  0.087121\n",
       "gram6-nationality-adjective      374        406    780  0.479487\n",
       "gram7-past-tense                 727         53    780  0.932051\n",
       "gram8-plural-noun                381        399    780  0.488462\n",
       "gram9-plural-verb                726         54    780  0.930769"
      ]
     },
     "execution_count": 60,
     "metadata": {},
     "output_type": "execute_result"
    }
   ],
   "source": [
    "%time get_accuracies(vectors, questions)#, dummy4unknown=True)"
   ]
  }
 ],
 "metadata": {
  "kernelspec": {
   "display_name": "Python 3 (ipykernel)",
   "language": "python",
   "name": "python3"
  },
  "language_info": {
   "codemirror_mode": {
    "name": "ipython",
    "version": 3
   },
   "file_extension": ".py",
   "mimetype": "text/x-python",
   "name": "python",
   "nbconvert_exporter": "python",
   "pygments_lexer": "ipython3",
   "version": "3.10.8"
  }
 },
 "nbformat": 4,
 "nbformat_minor": 5
}
