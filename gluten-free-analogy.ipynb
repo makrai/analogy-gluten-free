{
 "cells": [
  {
   "cell_type": "code",
   "execution_count": 1,
   "id": "58f9ecd1",
   "metadata": {},
   "outputs": [],
   "source": [
    "import datetime\n",
    "\n",
    "from gensim.models import KeyedVectors\n",
    "from gensim.test import test_data\n",
    "import pandas as pd\n",
    "import matplotlib.pyplot as plt\n",
    "import seaborn as sns"
   ]
  },
  {
   "cell_type": "code",
   "execution_count": 2,
   "id": "f6b6b64e",
   "metadata": {},
   "outputs": [],
   "source": [
    "questions_en = '/home/levai/.miniconda3/envs/gensim/lib/python3.8/site-packages/gensim/test/test_data/questions-words.txt'"
   ]
  },
  {
   "cell_type": "code",
   "execution_count": 3,
   "id": "b1353d45",
   "metadata": {},
   "outputs": [],
   "source": [
    "questions = '/mnt/permanent/Language/Hungarian/Embed/questions-words-hu/questions-words-hu.txt'"
   ]
  },
  {
   "cell_type": "code",
   "execution_count": 4,
   "id": "c63dd471",
   "metadata": {},
   "outputs": [],
   "source": [
    "vectors_en = KeyedVectors.load('/mnt/permanent/Language/English/Embed/glove.840B.300d.gensim', mmap='r')"
   ]
  },
  {
   "cell_type": "code",
   "execution_count": 5,
   "id": "6ed5d689",
   "metadata": {},
   "outputs": [],
   "source": [
    "vectors = KeyedVectors.load('/mnt/permanent/Language/Hungarian/Embed/mnsz2/glf/mnsz-glf-sgram-600.gensim', mmap='r')"
   ]
  },
  {
   "cell_type": "code",
   "execution_count": 6,
   "id": "e64df79b",
   "metadata": {},
   "outputs": [],
   "source": [
    "def get_analogy_scores(vectors, questions):\n",
    "    score, sections = vectors.evaluate_word_analogies(questions, restrict_vocab=10000)\n",
    "    #print(score)\n",
    "    df_ = pd.DataFrame(sections)\n",
    "    df_.set_index('section', inplace=True)\n",
    "    df = df_.apply({'correct': len, 'incorrect': len})\n",
    "    df['total'] = df.sum(axis=1)\n",
    "    df['accuracy'] = df.correct / df.total\n",
    "    df.drop(index=['Total accuracy'], inplace=True)\n",
    "    return df"
   ]
  },
  {
   "cell_type": "markdown",
   "id": "caa8a92e",
   "metadata": {},
   "source": [
    "# Comparison of MNSZ-glf-sgram-600 to English"
   ]
  },
  {
   "cell_type": "code",
   "execution_count": 7,
   "id": "21389a95",
   "metadata": {},
   "outputs": [],
   "source": [
    "df_en = get_analogy_scores(vectors_en, questions_en)"
   ]
  },
  {
   "cell_type": "code",
   "execution_count": 8,
   "id": "1e8e2586",
   "metadata": {},
   "outputs": [],
   "source": [
    "df = get_analogy_scores(vectors, questions)"
   ]
  },
  {
   "cell_type": "code",
   "execution_count": 9,
   "id": "87cf788a",
   "metadata": {},
   "outputs": [
    {
     "data": {
      "text/plain": [
       "<matplotlib.collections.PathCollection at 0x7fc160278fd0>"
      ]
     },
     "execution_count": 9,
     "metadata": {},
     "output_type": "execute_result"
    },
    {
     "data": {
      "image/png": "[encoded data removed]",
      "text/plain": [
       "<Figure size 640x480 with 1 Axes>"
      ]
     },
     "metadata": {},
     "output_type": "display_data"
    }
   ],
   "source": [
    "plt.scatter(df_en.total, df_en.accuracy)"
   ]
  },
  {
   "cell_type": "code",
   "execution_count": 10,
   "id": "bf64803d",
   "metadata": {},
   "outputs": [
    {
     "data": {
      "text/plain": [
       "<matplotlib.collections.PathCollection at 0x7fc16a0553c0>"
      ]
     },
     "execution_count": 10,
     "metadata": {},
     "output_type": "execute_result"
    },
    {
     "data": {
      "image/png": "[encoded data removed]",
      "text/plain": [
       "<Figure size 640x480 with 1 Axes>"
      ]
     },
     "metadata": {},
     "output_type": "display_data"
    }
   ],
   "source": [
    "plt.scatter(df.total, df.accuracy)"
   ]
  },
  {
   "cell_type": "markdown",
   "id": "72a9148e",
   "metadata": {},
   "source": [
    "# Webcorpus 2.0: gluten-free and vanila"
   ]
  },
  {
   "cell_type": "code",
   "execution_count": 11,
   "id": "5fe00039",
   "metadata": {},
   "outputs": [],
   "source": [
    "def aggregate_score(model):\n",
    "    df = get_analogy_scores(model, questions)\n",
    "    df.drop(index=['capital-world', 'capital-common-countries'], inplace=True)\n",
    "    # capital-world is disregarded because large OOV makes this relation instabile\n",
    "    # [~df.index.str.startswith('gram')]\n",
    "    return df.accuracy.mean()"
   ]
  },
  {
   "cell_type": "code",
   "execution_count": 12,
   "id": "9aaf8135",
   "metadata": {},
   "outputs": [],
   "source": [
    "embed_dir = '/mnt/permanent/Language/Hungarian/Embed/webcorpus2.0'"
   ]
  },
  {
   "cell_type": "code",
   "execution_count": 13,
   "id": "76f744e4",
   "metadata": {},
   "outputs": [],
   "source": [
    "file_patterns = ['2017_2018_2956', '2017_2018_295', '2017_2018_29', 'wiki', '2017_2018_2', '2017_2018']#, '201', ''"
   ]
  },
  {
   "cell_type": "code",
   "execution_count": 14,
   "id": "08926e61",
   "metadata": {},
   "outputs": [],
   "source": [
    "def get_accuracy_by_size():\n",
    "    for file_pattern in file_patterns:\n",
    "        for deglutinate_ in ['vanila', 'deglut', 'deglutAllSuffSepd']:\n",
    "            try:\n",
    "                model = KeyedVectors.load(f'{embed_dir}/sgns-300-{file_pattern}-{deglutinate_}.gensim', mmap='r')\n",
    "            except FileNotFoundError:\n",
    "                continue\n",
    "            record = {\n",
    "                'files': f'{file_pattern}*',\n",
    "                'deglut' : deglutinate_,\n",
    "                'sentence': model.corpus_count, \n",
    "                'token': model.corpus_total_words, \n",
    "                'type': len(model.wv.key_to_index)}\n",
    "            df = get_analogy_scores(model.wv, questions)\n",
    "            for relation in ['common-countries', 'world']:\n",
    "                record[f'capital-{relation} correct'] = df.loc[f'capital-{relation}', 'correct']\n",
    "                record[f'capital-{relation} total'] = df.loc[f'capital-{relation}', 'total']\n",
    "            df.drop(index=['capital-world', 'capital-common-countries'], inplace=True)\n",
    "            record['accuracy'] = df.accuracy.mean()\n",
    "            print((record['files'], record['deglut']))\n",
    "            yield record"
   ]
  },
  {
   "cell_type": "code",
   "execution_count": 15,
   "id": "0e0f313d",
   "metadata": {},
   "outputs": [],
   "source": [
    "records = get_accuracy_by_size()"
   ]
  },
  {
   "cell_type": "code",
   "execution_count": 16,
   "id": "c47173be",
   "metadata": {},
   "outputs": [
    {
     "name": "stdout",
     "output_type": "stream",
     "text": [
      "('2017_2018_2956*', 'vanila')\n",
      "('2017_2018_2956*', 'deglut')\n",
      "('2017_2018_2956*', 'deglutAllSuffSepd')\n",
      "('2017_2018_295*', 'vanila')\n",
      "('2017_2018_295*', 'deglut')\n",
      "('2017_2018_295*', 'deglutAllSuffSepd')\n",
      "('2017_2018_29*', 'vanila')\n",
      "('2017_2018_29*', 'deglut')\n",
      "('2017_2018_29*', 'deglutAllSuffSepd')\n",
      "('wiki*', 'vanila')\n",
      "('wiki*', 'deglut')\n",
      "('wiki*', 'deglutAllSuffSepd')\n",
      "('2017_2018_2*', 'vanila')\n",
      "('2017_2018_2*', 'deglut')\n",
      "('2017_2018_2*', 'deglutAllSuffSepd')\n",
      "('2017_2018*', 'vanila')\n",
      "('2017_2018*', 'deglut')\n",
      "('2017_2018*', 'deglutAllSuffSepd')\n"
     ]
    }
   ],
   "source": [
    "df_ = pd.DataFrame(records)"
   ]
  },
  {
   "cell_type": "code",
   "execution_count": 17,
   "id": "bb590c85",
   "metadata": {},
   "outputs": [],
   "source": [
    "for relation in ['common-countries', 'world']:\n",
    "    df_[f'capital-{relation} accuracy'] = df_[f'capital-{relation} correct'] / df_[f'capital-{relation} total']"
   ]
  },
  {
   "cell_type": "code",
   "execution_count": 18,
   "id": "bbd38f5f",
   "metadata": {},
   "outputs": [],
   "source": [
    "df = df_.drop(columns=['deglut', 'accuracy']).groupby('files').max()\n",
    "df = df.join(pd.pivot_table(df_, values='accuracy', index='files', columns='deglut'), rsuffix='_')"
   ]
  },
  {
   "cell_type": "code",
   "execution_count": 19,
   "id": "f7e49bb7",
   "metadata": {},
   "outputs": [],
   "source": [
    "for relation in ['common-countries', 'world']:\n",
    "    df = df.join(pd.pivot_table(df_, values=f'capital-{relation} accuracy', index='files', columns='deglut'), \n",
    "                 rsuffix=f'_capital-{relation}')\n",
    "    df.drop(columns=[f'capital-{relation} correct', f'capital-{relation} total'])"
   ]
  },
  {
   "cell_type": "code",
   "execution_count": 20,
   "id": "10575aa5",
   "metadata": {},
   "outputs": [],
   "source": [
    "df.sort_values('sentence', inplace=True)"
   ]
  },
  {
   "cell_type": "code",
   "execution_count": 21,
   "id": "2502fc32",
   "metadata": {},
   "outputs": [
    {
     "data": {
      "text/html": [
       "<div>\n",
       "<style scoped>\n",
       "    .dataframe tbody tr th:only-of-type {\n",
       "        vertical-align: middle;\n",
       "    }\n",
       "\n",
       "    .dataframe tbody tr th {\n",
       "        vertical-align: top;\n",
       "    }\n",
       "\n",
       "    .dataframe thead th {\n",
       "        text-align: right;\n",
       "    }\n",
       "</style>\n",
       "<table border=\"1\" class=\"dataframe\">\n",
       "  <thead>\n",
       "    <tr style=\"text-align: right;\">\n",
       "      <th></th>\n",
       "      <th>sentence</th>\n",
       "      <th>token</th>\n",
       "      <th>type</th>\n",
       "      <th>capital-common-countries correct</th>\n",
       "      <th>capital-common-countries total</th>\n",
       "      <th>capital-world correct</th>\n",
       "      <th>capital-world total</th>\n",
       "      <th>capital-common-countries accuracy</th>\n",
       "      <th>capital-world accuracy</th>\n",
       "      <th>deglut</th>\n",
       "      <th>deglutAllSuffSepd</th>\n",
       "      <th>vanila</th>\n",
       "      <th>deglut_capital-common-countries</th>\n",
       "      <th>deglutAllSuffSepd_capital-common-countries</th>\n",
       "      <th>vanila_capital-common-countries</th>\n",
       "      <th>deglut_capital-world</th>\n",
       "      <th>deglutAllSuffSepd_capital-world</th>\n",
       "      <th>vanila_capital-world</th>\n",
       "    </tr>\n",
       "    <tr>\n",
       "      <th>files</th>\n",
       "      <th></th>\n",
       "      <th></th>\n",
       "      <th></th>\n",
       "      <th></th>\n",
       "      <th></th>\n",
       "      <th></th>\n",
       "      <th></th>\n",
       "      <th></th>\n",
       "      <th></th>\n",
       "      <th></th>\n",
       "      <th></th>\n",
       "      <th></th>\n",
       "      <th></th>\n",
       "      <th></th>\n",
       "      <th></th>\n",
       "      <th></th>\n",
       "      <th></th>\n",
       "      <th></th>\n",
       "    </tr>\n",
       "  </thead>\n",
       "  <tbody>\n",
       "    <tr>\n",
       "      <th>2017_2018_2956*</th>\n",
       "      <td>66798</td>\n",
       "      <td>1246317</td>\n",
       "      <td>9388</td>\n",
       "      <td>0</td>\n",
       "      <td>1</td>\n",
       "      <td>1</td>\n",
       "      <td>15</td>\n",
       "      <td>0.000000</td>\n",
       "      <td>0.066667</td>\n",
       "      <td>0.033333</td>\n",
       "      <td>0.016667</td>\n",
       "      <td>0.000650</td>\n",
       "      <td>0.000000</td>\n",
       "      <td>0.000000</td>\n",
       "      <td>NaN</td>\n",
       "      <td>0.066667</td>\n",
       "      <td>0.000000</td>\n",
       "      <td>0.000000</td>\n",
       "    </tr>\n",
       "    <tr>\n",
       "      <th>2017_2018_295*</th>\n",
       "      <td>879317</td>\n",
       "      <td>23261396</td>\n",
       "      <td>149981</td>\n",
       "      <td>0</td>\n",
       "      <td>1</td>\n",
       "      <td>0</td>\n",
       "      <td>6</td>\n",
       "      <td>0.000000</td>\n",
       "      <td>0.000000</td>\n",
       "      <td>0.048498</td>\n",
       "      <td>0.050489</td>\n",
       "      <td>0.073301</td>\n",
       "      <td>0.000000</td>\n",
       "      <td>0.000000</td>\n",
       "      <td>NaN</td>\n",
       "      <td>0.000000</td>\n",
       "      <td>0.000000</td>\n",
       "      <td>NaN</td>\n",
       "    </tr>\n",
       "    <tr>\n",
       "      <th>wiki*</th>\n",
       "      <td>11798744</td>\n",
       "      <td>200357761</td>\n",
       "      <td>920965</td>\n",
       "      <td>39</td>\n",
       "      <td>78</td>\n",
       "      <td>151</td>\n",
       "      <td>406</td>\n",
       "      <td>0.555556</td>\n",
       "      <td>0.415789</td>\n",
       "      <td>0.301049</td>\n",
       "      <td>0.332903</td>\n",
       "      <td>0.461793</td>\n",
       "      <td>0.500000</td>\n",
       "      <td>0.461538</td>\n",
       "      <td>0.555556</td>\n",
       "      <td>0.337438</td>\n",
       "      <td>0.371921</td>\n",
       "      <td>0.415789</td>\n",
       "    </tr>\n",
       "    <tr>\n",
       "      <th>2017_2018_29*</th>\n",
       "      <td>12058626</td>\n",
       "      <td>310703112</td>\n",
       "      <td>1028343</td>\n",
       "      <td>8</td>\n",
       "      <td>15</td>\n",
       "      <td>22</td>\n",
       "      <td>66</td>\n",
       "      <td>1.000000</td>\n",
       "      <td>1.000000</td>\n",
       "      <td>0.335747</td>\n",
       "      <td>0.317981</td>\n",
       "      <td>0.469687</td>\n",
       "      <td>0.533333</td>\n",
       "      <td>0.266667</td>\n",
       "      <td>1.000000</td>\n",
       "      <td>0.333333</td>\n",
       "      <td>0.303030</td>\n",
       "      <td>1.000000</td>\n",
       "    </tr>\n",
       "    <tr>\n",
       "      <th>2017_2018_2*</th>\n",
       "      <td>133832368</td>\n",
       "      <td>3395599678</td>\n",
       "      <td>4730753</td>\n",
       "      <td>11</td>\n",
       "      <td>15</td>\n",
       "      <td>33</td>\n",
       "      <td>66</td>\n",
       "      <td>0.733333</td>\n",
       "      <td>0.500000</td>\n",
       "      <td>0.505566</td>\n",
       "      <td>0.519638</td>\n",
       "      <td>0.579354</td>\n",
       "      <td>0.266667</td>\n",
       "      <td>0.733333</td>\n",
       "      <td>NaN</td>\n",
       "      <td>0.378788</td>\n",
       "      <td>0.500000</td>\n",
       "      <td>0.000000</td>\n",
       "    </tr>\n",
       "    <tr>\n",
       "      <th>2017_2018*</th>\n",
       "      <td>511812157</td>\n",
       "      <td>13144806360</td>\n",
       "      <td>11400728</td>\n",
       "      <td>8</td>\n",
       "      <td>15</td>\n",
       "      <td>34</td>\n",
       "      <td>66</td>\n",
       "      <td>1.000000</td>\n",
       "      <td>1.000000</td>\n",
       "      <td>0.430760</td>\n",
       "      <td>0.467365</td>\n",
       "      <td>0.618774</td>\n",
       "      <td>0.533333</td>\n",
       "      <td>0.400000</td>\n",
       "      <td>1.000000</td>\n",
       "      <td>0.515152</td>\n",
       "      <td>0.484848</td>\n",
       "      <td>1.000000</td>\n",
       "    </tr>\n",
       "  </tbody>\n",
       "</table>\n",
       "</div>"
      ],
      "text/plain": [
       "                  sentence        token      type  \\\n",
       "files                                               \n",
       "2017_2018_2956*      66798      1246317      9388   \n",
       "2017_2018_295*      879317     23261396    149981   \n",
       "wiki*             11798744    200357761    920965   \n",
       "2017_2018_29*     12058626    310703112   1028343   \n",
       "2017_2018_2*     133832368   3395599678   4730753   \n",
       "2017_2018*       511812157  13144806360  11400728   \n",
       "\n",
       "                 capital-common-countries correct  \\\n",
       "files                                               \n",
       "2017_2018_2956*                                 0   \n",
       "2017_2018_295*                                  0   \n",
       "wiki*                                          39   \n",
       "2017_2018_29*                                   8   \n",
       "2017_2018_2*                                   11   \n",
       "2017_2018*                                      8   \n",
       "\n",
       "                 capital-common-countries total  capital-world correct  \\\n",
       "files                                                                    \n",
       "2017_2018_2956*                               1                      1   \n",
       "2017_2018_295*                                1                      0   \n",
       "wiki*                                        78                    151   \n",
       "2017_2018_29*                                15                     22   \n",
       "2017_2018_2*                                 15                     33   \n",
       "2017_2018*                                   15                     34   \n",
       "\n",
       "                 capital-world total  capital-common-countries accuracy  \\\n",
       "files                                                                     \n",
       "2017_2018_2956*                   15                           0.000000   \n",
       "2017_2018_295*                     6                           0.000000   \n",
       "wiki*                            406                           0.555556   \n",
       "2017_2018_29*                     66                           1.000000   \n",
       "2017_2018_2*                      66                           0.733333   \n",
       "2017_2018*                        66                           1.000000   \n",
       "\n",
       "                 capital-world accuracy    deglut  deglutAllSuffSepd  \\\n",
       "files                                                                  \n",
       "2017_2018_2956*                0.066667  0.033333           0.016667   \n",
       "2017_2018_295*                 0.000000  0.048498           0.050489   \n",
       "wiki*                          0.415789  0.301049           0.332903   \n",
       "2017_2018_29*                  1.000000  0.335747           0.317981   \n",
       "2017_2018_2*                   0.500000  0.505566           0.519638   \n",
       "2017_2018*                     1.000000  0.430760           0.467365   \n",
       "\n",
       "                   vanila  deglut_capital-common-countries  \\\n",
       "files                                                        \n",
       "2017_2018_2956*  0.000650                         0.000000   \n",
       "2017_2018_295*   0.073301                         0.000000   \n",
       "wiki*            0.461793                         0.500000   \n",
       "2017_2018_29*    0.469687                         0.533333   \n",
       "2017_2018_2*     0.579354                         0.266667   \n",
       "2017_2018*       0.618774                         0.533333   \n",
       "\n",
       "                 deglutAllSuffSepd_capital-common-countries  \\\n",
       "files                                                         \n",
       "2017_2018_2956*                                    0.000000   \n",
       "2017_2018_295*                                     0.000000   \n",
       "wiki*                                              0.461538   \n",
       "2017_2018_29*                                      0.266667   \n",
       "2017_2018_2*                                       0.733333   \n",
       "2017_2018*                                         0.400000   \n",
       "\n",
       "                 vanila_capital-common-countries  deglut_capital-world  \\\n",
       "files                                                                    \n",
       "2017_2018_2956*                              NaN              0.066667   \n",
       "2017_2018_295*                               NaN              0.000000   \n",
       "wiki*                                   0.555556              0.337438   \n",
       "2017_2018_29*                           1.000000              0.333333   \n",
       "2017_2018_2*                                 NaN              0.378788   \n",
       "2017_2018*                              1.000000              0.515152   \n",
       "\n",
       "                 deglutAllSuffSepd_capital-world  vanila_capital-world  \n",
       "files                                                                   \n",
       "2017_2018_2956*                         0.000000              0.000000  \n",
       "2017_2018_295*                          0.000000                   NaN  \n",
       "wiki*                                   0.371921              0.415789  \n",
       "2017_2018_29*                           0.303030              1.000000  \n",
       "2017_2018_2*                            0.500000              0.000000  \n",
       "2017_2018*                              0.484848              1.000000  "
      ]
     },
     "execution_count": 21,
     "metadata": {},
     "output_type": "execute_result"
    }
   ],
   "source": [
    "df"
   ]
  },
  {
   "cell_type": "code",
   "execution_count": 22,
   "id": "e73a17b9",
   "metadata": {},
   "outputs": [],
   "source": [
    "def thousand(int_):\n",
    "    return f'{int_:,}'"
   ]
  },
  {
   "cell_type": "code",
   "execution_count": 23,
   "id": "80235a7d",
   "metadata": {},
   "outputs": [
    {
     "data": {
      "text/html": [
       "<div>\n",
       "<style scoped>\n",
       "    .dataframe tbody tr th:only-of-type {\n",
       "        vertical-align: middle;\n",
       "    }\n",
       "\n",
       "    .dataframe tbody tr th {\n",
       "        vertical-align: top;\n",
       "    }\n",
       "\n",
       "    .dataframe thead th {\n",
       "        text-align: right;\n",
       "    }\n",
       "</style>\n",
       "<table border=\"1\" class=\"dataframe\">\n",
       "  <thead>\n",
       "    <tr style=\"text-align: right;\">\n",
       "      <th></th>\n",
       "      <th>sentence</th>\n",
       "      <th>token</th>\n",
       "      <th>type</th>\n",
       "      <th>vanila</th>\n",
       "      <th>deglutAllSuffSepd</th>\n",
       "      <th>deglut</th>\n",
       "    </tr>\n",
       "    <tr>\n",
       "      <th>files</th>\n",
       "      <th></th>\n",
       "      <th></th>\n",
       "      <th></th>\n",
       "      <th></th>\n",
       "      <th></th>\n",
       "      <th></th>\n",
       "    </tr>\n",
       "  </thead>\n",
       "  <tbody>\n",
       "    <tr>\n",
       "      <th>2017_2018_2956*</th>\n",
       "      <td>66,798</td>\n",
       "      <td>1,246,317</td>\n",
       "      <td>9,388</td>\n",
       "      <td>0.000650</td>\n",
       "      <td>0.016667</td>\n",
       "      <td>0.033333</td>\n",
       "    </tr>\n",
       "    <tr>\n",
       "      <th>2017_2018_295*</th>\n",
       "      <td>879,317</td>\n",
       "      <td>23,261,396</td>\n",
       "      <td>149,981</td>\n",
       "      <td>0.073301</td>\n",
       "      <td>0.050489</td>\n",
       "      <td>0.048498</td>\n",
       "    </tr>\n",
       "    <tr>\n",
       "      <th>wiki*</th>\n",
       "      <td>11,798,744</td>\n",
       "      <td>200,357,761</td>\n",
       "      <td>920,965</td>\n",
       "      <td>0.461793</td>\n",
       "      <td>0.332903</td>\n",
       "      <td>0.301049</td>\n",
       "    </tr>\n",
       "    <tr>\n",
       "      <th>2017_2018_29*</th>\n",
       "      <td>12,058,626</td>\n",
       "      <td>310,703,112</td>\n",
       "      <td>1,028,343</td>\n",
       "      <td>0.469687</td>\n",
       "      <td>0.317981</td>\n",
       "      <td>0.335747</td>\n",
       "    </tr>\n",
       "    <tr>\n",
       "      <th>2017_2018_2*</th>\n",
       "      <td>133,832,368</td>\n",
       "      <td>3,395,599,678</td>\n",
       "      <td>4,730,753</td>\n",
       "      <td>0.579354</td>\n",
       "      <td>0.519638</td>\n",
       "      <td>0.505566</td>\n",
       "    </tr>\n",
       "    <tr>\n",
       "      <th>2017_2018*</th>\n",
       "      <td>511,812,157</td>\n",
       "      <td>13,144,806,360</td>\n",
       "      <td>11,400,728</td>\n",
       "      <td>0.618774</td>\n",
       "      <td>0.467365</td>\n",
       "      <td>0.430760</td>\n",
       "    </tr>\n",
       "  </tbody>\n",
       "</table>\n",
       "</div>"
      ],
      "text/plain": [
       "                    sentence           token        type    vanila  \\\n",
       "files                                                                \n",
       "2017_2018_2956*       66,798       1,246,317       9,388  0.000650   \n",
       "2017_2018_295*       879,317      23,261,396     149,981  0.073301   \n",
       "wiki*             11,798,744     200,357,761     920,965  0.461793   \n",
       "2017_2018_29*     12,058,626     310,703,112   1,028,343  0.469687   \n",
       "2017_2018_2*     133,832,368   3,395,599,678   4,730,753  0.579354   \n",
       "2017_2018*       511,812,157  13,144,806,360  11,400,728  0.618774   \n",
       "\n",
       "                 deglutAllSuffSepd    deglut  \n",
       "files                                         \n",
       "2017_2018_2956*           0.016667  0.033333  \n",
       "2017_2018_295*            0.050489  0.048498  \n",
       "wiki*                     0.332903  0.301049  \n",
       "2017_2018_29*             0.317981  0.335747  \n",
       "2017_2018_2*              0.519638  0.505566  \n",
       "2017_2018*                0.467365  0.430760  "
      ]
     },
     "execution_count": 23,
     "metadata": {},
     "output_type": "execute_result"
    }
   ],
   "source": [
    "df_formed = df.apply({col: thousand if col in ['sentence', 'token', 'type'] else lambda x: x \n",
    "                             for col in df.columns})\n",
    "#print(df_formed[['sentence', 'token', 'type', 'vanila', 'deglutAllSuffSepd', 'deglut']].style.to_latex())\n",
    "df_formed[['sentence', 'token', 'type', 'vanila', 'deglutAllSuffSepd', 'deglut']]"
   ]
  },
  {
   "cell_type": "code",
   "execution_count": 44,
   "id": "7e2e1bcb",
   "metadata": {},
   "outputs": [
    {
     "data": {
      "image/png": "[encoded data removed]",
      "text/plain": [
       "<Figure size 640x480 with 1 Axes>"
      ]
     },
     "metadata": {},
     "output_type": "display_data"
    }
   ],
   "source": [
    "df.rename(columns={'vanila': 'word-level', \n",
    "                   'deglutAllSuffSepd': 'each-separate',\n",
    "                   'deglut': 'paradigm-cell'}, inplace=True)\n",
    "sns.lineplot(df[['word-level', 'each-separate', 'paradigm-cell']])\n",
    "_ = plt.xticks(rotation=45)\n",
    "plt.savefig('gluten-free-analogy.png', bbox_inches=\"tight\")"
   ]
  },
  {
   "cell_type": "code",
   "execution_count": null,
   "id": "a86ad463",
   "metadata": {},
   "outputs": [],
   "source": [
    "_ = plt.xticks(rotation=45)\n",
    "plt.savefig('gluten-free-analogy.png')"
   ]
  },
  {
   "cell_type": "code",
   "execution_count": 23,
   "id": "5e5f1965",
   "metadata": {},
   "outputs": [
    {
     "ename": "KeyError",
     "evalue": "\"None of [Index(['deglut_capital-common-countries',\\n       'deglutAllSuffSepd_capital-common-countries',\\n       'vanila_capital-common-countries'],\\n      dtype='object')] are in the [columns]\"",
     "output_type": "error",
     "traceback": [
      "\u001b[0;31m---------------------------------------------------------------------------\u001b[0m",
      "\u001b[0;31mKeyError\u001b[0m                                  Traceback (most recent call last)",
      "Cell \u001b[0;32mIn[23], line 1\u001b[0m\n\u001b[0;32m----> 1\u001b[0m \u001b[43mdf\u001b[49m\u001b[43m[\u001b[49m\u001b[43m[\u001b[49m\u001b[38;5;124;43m'\u001b[39;49m\u001b[38;5;124;43mdeglut_capital-common-countries\u001b[39;49m\u001b[38;5;124;43m'\u001b[39;49m\u001b[43m,\u001b[49m\n\u001b[1;32m      2\u001b[0m \u001b[43m       \u001b[49m\u001b[38;5;124;43m'\u001b[39;49m\u001b[38;5;124;43mdeglutAllSuffSepd_capital-common-countries\u001b[39;49m\u001b[38;5;124;43m'\u001b[39;49m\u001b[43m,\u001b[49m\n\u001b[1;32m      3\u001b[0m \u001b[43m       \u001b[49m\u001b[38;5;124;43m'\u001b[39;49m\u001b[38;5;124;43mvanila_capital-common-countries\u001b[39;49m\u001b[38;5;124;43m'\u001b[39;49m\u001b[43m]\u001b[49m\u001b[43m]\u001b[49m\u001b[38;5;241m.\u001b[39mplot()\n\u001b[1;32m      4\u001b[0m _ \u001b[38;5;241m=\u001b[39m plt\u001b[38;5;241m.\u001b[39mxticks(rotation\u001b[38;5;241m=\u001b[39m\u001b[38;5;241m90\u001b[39m)\n",
      "File \u001b[0;32m~/tool/python/gensim/lib/python3.10/site-packages/pandas/core/frame.py:3813\u001b[0m, in \u001b[0;36mDataFrame.__getitem__\u001b[0;34m(self, key)\u001b[0m\n\u001b[1;32m   3811\u001b[0m     \u001b[38;5;28;01mif\u001b[39;00m is_iterator(key):\n\u001b[1;32m   3812\u001b[0m         key \u001b[38;5;241m=\u001b[39m \u001b[38;5;28mlist\u001b[39m(key)\n\u001b[0;32m-> 3813\u001b[0m     indexer \u001b[38;5;241m=\u001b[39m \u001b[38;5;28;43mself\u001b[39;49m\u001b[38;5;241;43m.\u001b[39;49m\u001b[43mcolumns\u001b[49m\u001b[38;5;241;43m.\u001b[39;49m\u001b[43m_get_indexer_strict\u001b[49m\u001b[43m(\u001b[49m\u001b[43mkey\u001b[49m\u001b[43m,\u001b[49m\u001b[43m \u001b[49m\u001b[38;5;124;43m\"\u001b[39;49m\u001b[38;5;124;43mcolumns\u001b[39;49m\u001b[38;5;124;43m\"\u001b[39;49m\u001b[43m)\u001b[49m[\u001b[38;5;241m1\u001b[39m]\n\u001b[1;32m   3815\u001b[0m \u001b[38;5;66;03m# take() does not accept boolean indexers\u001b[39;00m\n\u001b[1;32m   3816\u001b[0m \u001b[38;5;28;01mif\u001b[39;00m \u001b[38;5;28mgetattr\u001b[39m(indexer, \u001b[38;5;124m\"\u001b[39m\u001b[38;5;124mdtype\u001b[39m\u001b[38;5;124m\"\u001b[39m, \u001b[38;5;28;01mNone\u001b[39;00m) \u001b[38;5;241m==\u001b[39m \u001b[38;5;28mbool\u001b[39m:\n",
      "File \u001b[0;32m~/tool/python/gensim/lib/python3.10/site-packages/pandas/core/indexes/base.py:6070\u001b[0m, in \u001b[0;36mIndex._get_indexer_strict\u001b[0;34m(self, key, axis_name)\u001b[0m\n\u001b[1;32m   6067\u001b[0m \u001b[38;5;28;01melse\u001b[39;00m:\n\u001b[1;32m   6068\u001b[0m     keyarr, indexer, new_indexer \u001b[38;5;241m=\u001b[39m \u001b[38;5;28mself\u001b[39m\u001b[38;5;241m.\u001b[39m_reindex_non_unique(keyarr)\n\u001b[0;32m-> 6070\u001b[0m \u001b[38;5;28;43mself\u001b[39;49m\u001b[38;5;241;43m.\u001b[39;49m\u001b[43m_raise_if_missing\u001b[49m\u001b[43m(\u001b[49m\u001b[43mkeyarr\u001b[49m\u001b[43m,\u001b[49m\u001b[43m \u001b[49m\u001b[43mindexer\u001b[49m\u001b[43m,\u001b[49m\u001b[43m \u001b[49m\u001b[43maxis_name\u001b[49m\u001b[43m)\u001b[49m\n\u001b[1;32m   6072\u001b[0m keyarr \u001b[38;5;241m=\u001b[39m \u001b[38;5;28mself\u001b[39m\u001b[38;5;241m.\u001b[39mtake(indexer)\n\u001b[1;32m   6073\u001b[0m \u001b[38;5;28;01mif\u001b[39;00m \u001b[38;5;28misinstance\u001b[39m(key, Index):\n\u001b[1;32m   6074\u001b[0m     \u001b[38;5;66;03m# GH 42790 - Preserve name from an Index\u001b[39;00m\n",
      "File \u001b[0;32m~/tool/python/gensim/lib/python3.10/site-packages/pandas/core/indexes/base.py:6130\u001b[0m, in \u001b[0;36mIndex._raise_if_missing\u001b[0;34m(self, key, indexer, axis_name)\u001b[0m\n\u001b[1;32m   6128\u001b[0m     \u001b[38;5;28;01mif\u001b[39;00m use_interval_msg:\n\u001b[1;32m   6129\u001b[0m         key \u001b[38;5;241m=\u001b[39m \u001b[38;5;28mlist\u001b[39m(key)\n\u001b[0;32m-> 6130\u001b[0m     \u001b[38;5;28;01mraise\u001b[39;00m \u001b[38;5;167;01mKeyError\u001b[39;00m(\u001b[38;5;124mf\u001b[39m\u001b[38;5;124m\"\u001b[39m\u001b[38;5;124mNone of [\u001b[39m\u001b[38;5;132;01m{\u001b[39;00mkey\u001b[38;5;132;01m}\u001b[39;00m\u001b[38;5;124m] are in the [\u001b[39m\u001b[38;5;132;01m{\u001b[39;00maxis_name\u001b[38;5;132;01m}\u001b[39;00m\u001b[38;5;124m]\u001b[39m\u001b[38;5;124m\"\u001b[39m)\n\u001b[1;32m   6132\u001b[0m not_found \u001b[38;5;241m=\u001b[39m \u001b[38;5;28mlist\u001b[39m(ensure_index(key)[missing_mask\u001b[38;5;241m.\u001b[39mnonzero()[\u001b[38;5;241m0\u001b[39m]]\u001b[38;5;241m.\u001b[39munique())\n\u001b[1;32m   6133\u001b[0m \u001b[38;5;28;01mraise\u001b[39;00m \u001b[38;5;167;01mKeyError\u001b[39;00m(\u001b[38;5;124mf\u001b[39m\u001b[38;5;124m\"\u001b[39m\u001b[38;5;132;01m{\u001b[39;00mnot_found\u001b[38;5;132;01m}\u001b[39;00m\u001b[38;5;124m not in index\u001b[39m\u001b[38;5;124m\"\u001b[39m)\n",
      "\u001b[0;31mKeyError\u001b[0m: \"None of [Index(['deglut_capital-common-countries',\\n       'deglutAllSuffSepd_capital-common-countries',\\n       'vanila_capital-common-countries'],\\n      dtype='object')] are in the [columns]\""
     ]
    }
   ],
   "source": [
    "df[['deglut_capital-common-countries',\n",
    "       'deglutAllSuffSepd_capital-common-countries',\n",
    "       'vanila_capital-common-countries']].plot()\n",
    "_ = plt.xticks(rotation=90)\n"
   ]
  },
  {
   "cell_type": "markdown",
   "id": "fdb3e52f",
   "metadata": {},
   "source": [
    "# Investigating the strange results"
   ]
  },
  {
   "cell_type": "code",
   "execution_count": null,
   "id": "e2cec648",
   "metadata": {},
   "outputs": [],
   "source": [
    "def plot_accur_of_two_embeds(accuracies_vanila, accuracies_deglut, lname='vanila', rname='deglut', \n",
    "                             column='accuracy'):\n",
    "    accuracies = accuracies_vanila.join(accuracies_deglut, rsuffix=f'-{rname}')\n",
    "    plt.scatter(accuracies[f'{column}'], accuracies[f'{column}-{rname}'])\n",
    "    plt.xlabel(lname)\n",
    "    plt.ylabel(rname)\n",
    "    for relation, stats in accuracies.iterrows():\n",
    "        plt.annotate(relation, xy=(stats[f'{column}'], stats[f'{column}-{rname}']), rotation=45)"
   ]
  },
  {
   "cell_type": "code",
   "execution_count": null,
   "id": "9f6142aa",
   "metadata": {},
   "outputs": [],
   "source": [
    "def get_analogy_scores_wrapper(filen_suff, deglut):\n",
    "    vecs = KeyedVectors.load(f'{embed_dir}/sgns-300-{filen_suff}-{deglut}.gensim')\n",
    "    return get_analogy_scores(vecs.wv, questions)"
   ]
  },
  {
   "cell_type": "markdown",
   "id": "4a0e4abf",
   "metadata": {},
   "source": [
    "## Two kinds of deglut"
   ]
  },
  {
   "cell_type": "markdown",
   "id": "08a4bd3b",
   "metadata": {},
   "source": [
    "### Greatest difference"
   ]
  },
  {
   "cell_type": "code",
   "execution_count": null,
   "id": "ecc842bb",
   "metadata": {},
   "outputs": [],
   "source": [
    "nemeskey = get_analogy_scores_wrapper('2017_2018_2', 'deglutAllSuffSepd')"
   ]
  },
  {
   "cell_type": "code",
   "execution_count": null,
   "id": "f73e2052",
   "metadata": {},
   "outputs": [],
   "source": [
    "twopart = get_analogy_scores_wrapper('2017_2018_2', 'deglut')"
   ]
  },
  {
   "cell_type": "code",
   "execution_count": null,
   "id": "cd3d2cd9",
   "metadata": {},
   "outputs": [],
   "source": [
    "plot_accur_of_two_embeds(nemeskey, twopart, lname='nemeskey', rname='twopart', column='correct')"
   ]
  },
  {
   "cell_type": "markdown",
   "id": "ff4c4a0c",
   "metadata": {},
   "source": [
    "## Larger corpus is worse"
   ]
  },
  {
   "cell_type": "markdown",
   "id": "43cead70",
   "metadata": {},
   "source": [
    "## deglut 13G: `capital-common-countries` is worse in the larger corpus"
   ]
  },
  {
   "cell_type": "markdown",
   "id": "81148cfb",
   "metadata": {},
   "source": [
    "### Nemeskey-style"
   ]
  },
  {
   "cell_type": "code",
   "execution_count": null,
   "id": "0c0a5bee",
   "metadata": {},
   "outputs": [],
   "source": [
    "vecs = KeyedVectors.load('/mnt/permanent/Language/Hungarian/Embed/webcorpus2.0/sgns-300-2017_2018_2-deglutAllSuffSepd.gensim')\n",
    "accur_3G = get_analogy_scores(vecs.wv, questions)"
   ]
  },
  {
   "cell_type": "code",
   "execution_count": null,
   "id": "36879f07",
   "metadata": {},
   "outputs": [],
   "source": [
    "vecs = KeyedVectors.load('/mnt/permanent/Language/Hungarian/Embed/webcorpus2.0/sgns-300-2017_2018-deglutAllSuffSepd.gensim')\n",
    "accur_13G = get_analogy_scores(vecs.wv, questions)"
   ]
  },
  {
   "cell_type": "code",
   "execution_count": null,
   "id": "d148a286",
   "metadata": {},
   "outputs": [],
   "source": [
    "plot_accur_of_two_embeds(accur_3G, accur_13G, lname='small', rname='large')"
   ]
  },
  {
   "cell_type": "code",
   "execution_count": null,
   "id": "9769a4d6",
   "metadata": {},
   "outputs": [],
   "source": [
    "plot_accur_of_two_embeds(accur_3G, accur_13G, lname='small', rname='large', column='correct')\n",
    "#plt.xscale('log')\n",
    "#plt.yscale('log')"
   ]
  },
  {
   "cell_type": "code",
   "execution_count": null,
   "id": "ac2b71ae",
   "metadata": {},
   "outputs": [],
   "source": [
    "accur_3G.loc['capital-common-countries']"
   ]
  },
  {
   "cell_type": "code",
   "execution_count": null,
   "id": "69392fb4",
   "metadata": {},
   "outputs": [],
   "source": [
    "accur_13G.loc['capital-common-countries']"
   ]
  },
  {
   "cell_type": "markdown",
   "id": "d447d8cf",
   "metadata": {},
   "source": [
    "### two-part"
   ]
  },
  {
   "cell_type": "code",
   "execution_count": null,
   "id": "205655c6",
   "metadata": {},
   "outputs": [],
   "source": [
    "vecs = KeyedVectors.load('/mnt/permanent/Language/Hungarian/Embed/webcorpus2.0/sgns-300-2017_2018_2-deglut.gensim')\n",
    "accur_3G = get_analogy_scores(vecs.wv, questions)"
   ]
  },
  {
   "cell_type": "code",
   "execution_count": null,
   "id": "eb9c4f04",
   "metadata": {},
   "outputs": [],
   "source": [
    "vecs = KeyedVectors.load('/mnt/permanent/Language/Hungarian/Embed/webcorpus2.0/sgns-300-2017_2018-deglut.gensim')\n",
    "accur_13G = get_analogy_scores(vecs.wv, questions)"
   ]
  },
  {
   "cell_type": "code",
   "execution_count": null,
   "id": "8b35e08a",
   "metadata": {},
   "outputs": [],
   "source": [
    "plot_accur_of_two_embeds(accur_3G, accur_13G, lname='small', rname='large')"
   ]
  },
  {
   "cell_type": "code",
   "execution_count": null,
   "id": "f253dae4",
   "metadata": {},
   "outputs": [],
   "source": [
    "plot_accur_of_two_embeds(accur_3G, accur_13G, lname='small', rname='large', column='correct')\n",
    "#plt.xscale('log')\n",
    "#plt.yscale('log')"
   ]
  },
  {
   "cell_type": "code",
   "execution_count": null,
   "id": "f933d356",
   "metadata": {},
   "outputs": [],
   "source": [
    "accur_3G.loc['capital-common-countries']"
   ]
  },
  {
   "cell_type": "code",
   "execution_count": null,
   "id": "bd88939f",
   "metadata": {},
   "outputs": [],
   "source": [
    "accur_13G.loc['capital-common-countries']"
   ]
  },
  {
   "cell_type": "markdown",
   "id": "f36a00a5",
   "metadata": {},
   "source": [
    "## Wiki vs similar-sized webcorpus"
   ]
  },
  {
   "cell_type": "code",
   "execution_count": null,
   "id": "d4638208",
   "metadata": {},
   "outputs": [],
   "source": [
    "wiki_vanl = get_analogy_scores_wrapper('wiki', 'vanila')\n",
    "wiki_dg_nemeskey = get_analogy_scores_wrapper('wiki', 'deglutAllSuffSepd')\n",
    "wiki_dg_twopart = get_analogy_scores_wrapper('wiki', 'deglut')\n",
    "webcorp_vanl = get_analogy_scores_wrapper('2017_2018_29', 'vanila')\n",
    "webcorp_dg_nemeskey = get_analogy_scores_wrapper('2017_2018_29', 'deglutAllSuffSepd')\n",
    "webcorp_dg_twopart = get_analogy_scores_wrapper('2017_2018_29', 'deglut')"
   ]
  },
  {
   "cell_type": "markdown",
   "id": "9fe097dc",
   "metadata": {},
   "source": [
    "### vanila"
   ]
  },
  {
   "cell_type": "code",
   "execution_count": null,
   "id": "11b1ffa4",
   "metadata": {},
   "outputs": [],
   "source": [
    "plot_accur_of_two_embeds(wiki_vanl, webcorp_vanl, lname='wiki', rname='web')"
   ]
  },
  {
   "cell_type": "code",
   "execution_count": null,
   "id": "1672d4e5",
   "metadata": {},
   "outputs": [],
   "source": [
    "plot_accur_of_two_embeds(wiki_vanl, webcorp_vanl, lname='wiki', rname='web', column='correct')"
   ]
  },
  {
   "cell_type": "code",
   "execution_count": null,
   "id": "18c34e8f",
   "metadata": {},
   "outputs": [],
   "source": [
    "wiki_vanl.loc['capital-common-countries']"
   ]
  },
  {
   "cell_type": "code",
   "execution_count": null,
   "id": "6ecc9dba",
   "metadata": {},
   "outputs": [],
   "source": [
    "webcorp_vanl.loc['capital-common-countries']"
   ]
  },
  {
   "cell_type": "markdown",
   "id": "a1a3e3bf",
   "metadata": {},
   "source": [
    "### two-part"
   ]
  },
  {
   "cell_type": "code",
   "execution_count": null,
   "id": "b996ea94",
   "metadata": {},
   "outputs": [],
   "source": [
    "plot_accur_of_two_embeds(wiki_dg_twopart, webcorp_dg_twopart, lname='wiki', rname='web')"
   ]
  },
  {
   "cell_type": "code",
   "execution_count": null,
   "id": "2daa7e6d",
   "metadata": {},
   "outputs": [],
   "source": [
    "plot_accur_of_two_embeds(wiki_dg_twopart, webcorp_dg_twopart, lname='wiki', rname='web', column='correct')"
   ]
  },
  {
   "cell_type": "markdown",
   "id": "6e5ab210",
   "metadata": {},
   "source": [
    "### Nemeskey-style"
   ]
  },
  {
   "cell_type": "code",
   "execution_count": null,
   "id": "87b35215",
   "metadata": {},
   "outputs": [],
   "source": [
    "plot_accur_of_two_embeds(wiki_dg_nemeskey, webcorp_dg_nemeskey, lname='wiki', rname='web')"
   ]
  },
  {
   "cell_type": "code",
   "execution_count": null,
   "id": "afd9a404",
   "metadata": {},
   "outputs": [],
   "source": [
    "plot_accur_of_two_embeds(wiki_dg_nemeskey, webcorp_dg_nemeskey, lname='wiki', rname='web', column='correct')"
   ]
  },
  {
   "cell_type": "markdown",
   "id": "4b6ba8b9",
   "metadata": {},
   "source": [
    "# Sanity check of the gluten-free embed"
   ]
  },
  {
   "cell_type": "code",
   "execution_count": null,
   "id": "185bc050",
   "metadata": {},
   "outputs": [],
   "source": [
    "vectors_vanila = KeyedVectors.load(\n",
    "    '/mnt/permanent/Language/Hungarian/Embed/webcorpus2.0/sgns-300-2017_2018-vanila.gensim').wv"
   ]
  },
  {
   "cell_type": "code",
   "execution_count": null,
   "id": "efd1f977",
   "metadata": {},
   "outputs": [],
   "source": [
    "vectors_vanila.most_similar('menekít')"
   ]
  },
  {
   "cell_type": "code",
   "execution_count": null,
   "id": "3e4b72e6",
   "metadata": {},
   "outputs": [],
   "source": [
    "accuracies_vanila = get_analogy_scores(vectors_vanila, questions)"
   ]
  },
  {
   "cell_type": "code",
   "execution_count": null,
   "id": "63e6f29c",
   "metadata": {},
   "outputs": [],
   "source": [
    "vectors_deglut = KeyedVectors.load(\n",
    "    '/mnt/permanent/Language/Hungarian/Embed/webcorpus2.0/sgns-300-2017_2018-deglut.gensim').wv"
   ]
  },
  {
   "cell_type": "code",
   "execution_count": null,
   "id": "3a6b8ef7",
   "metadata": {},
   "outputs": [],
   "source": [
    "vectors_deglut.most_similar('menekít')"
   ]
  },
  {
   "cell_type": "code",
   "execution_count": null,
   "id": "8dcf8cf1",
   "metadata": {},
   "outputs": [],
   "source": [
    "accuracies_deglut = get_analogy_scores(vectors_deglut, questions)"
   ]
  }
 ],
 "metadata": {
  "kernelspec": {
   "display_name": "Python 3 (ipykernel)",
   "language": "python",
   "name": "python3"
  },
  "language_info": {
   "codemirror_mode": {
    "name": "ipython",
    "version": 3
   },
   "file_extension": ".py",
   "mimetype": "text/x-python",
   "name": "python",
   "nbconvert_exporter": "python",
   "pygments_lexer": "ipython3",
   "version": "3.10.8"
  }
 },
 "nbformat": 4,
 "nbformat_minor": 5
}
