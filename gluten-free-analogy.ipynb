{
 "cells": [
  {
   "cell_type": "code",
   "execution_count": 1,
   "id": "58f9ecd1",
   "metadata": {},
   "outputs": [],
   "source": [
    "import datetime\n",
    "\n",
    "from gensim.models import KeyedVectors\n",
    "from gensim.test import test_data\n",
    "import pandas as pd\n",
    "import matplotlib.pyplot as plt"
   ]
  },
  {
   "cell_type": "code",
   "execution_count": 2,
   "id": "f6b6b64e",
   "metadata": {},
   "outputs": [],
   "source": [
    "questions_en = '/home/levai/.miniconda3/envs/gensim/lib/python3.8/site-packages/gensim/test/test_data/questions-words.txt'"
   ]
  },
  {
   "cell_type": "code",
   "execution_count": 3,
   "id": "b1353d45",
   "metadata": {},
   "outputs": [],
   "source": [
    "questions = '/mnt/permanent/Language/Hungarian/Embed/questions-words-hu/questions-words-hu.txt'"
   ]
  },
  {
   "cell_type": "code",
   "execution_count": 4,
   "id": "c63dd471",
   "metadata": {},
   "outputs": [],
   "source": [
    "vectors_en = KeyedVectors.load('/mnt/permanent/Language/English/Embed/glove.840B.300d.gensim')"
   ]
  },
  {
   "cell_type": "code",
   "execution_count": 5,
   "id": "6ed5d689",
   "metadata": {},
   "outputs": [],
   "source": [
    "vectors = KeyedVectors.load('/mnt/permanent/Language/Hungarian/Embed/mnsz2/glf/mnsz-glf-sgram-600.gensim')"
   ]
  },
  {
   "cell_type": "code",
   "execution_count": 6,
   "id": "e64df79b",
   "metadata": {},
   "outputs": [],
   "source": [
    "def get_analogy_scores(vectors, questions):\n",
    "    score, sections = vectors.evaluate_word_analogies(questions, restrict_vocab=10000)\n",
    "    #print(score)\n",
    "    df_ = pd.DataFrame(sections)\n",
    "    df_.set_index('section', inplace=True)\n",
    "    df = df_.apply({'correct': len, 'incorrect': len})\n",
    "    df['total'] = df.sum(axis=1)\n",
    "    df['accuracy'] = df.correct / df.total\n",
    "    df.drop(index=['Total accuracy'], inplace=True)\n",
    "    return df"
   ]
  },
  {
   "cell_type": "markdown",
   "id": "caa8a92e",
   "metadata": {},
   "source": [
    "# English"
   ]
  },
  {
   "cell_type": "code",
   "execution_count": 7,
   "id": "21389a95",
   "metadata": {},
   "outputs": [],
   "source": [
    "df_en = get_analogy_scores(vectors_en, questions_en)"
   ]
  },
  {
   "cell_type": "code",
   "execution_count": 8,
   "id": "1e8e2586",
   "metadata": {},
   "outputs": [],
   "source": [
    "df = get_analogy_scores(vectors, questions)"
   ]
  },
  {
   "cell_type": "code",
   "execution_count": 9,
   "id": "87cf788a",
   "metadata": {},
   "outputs": [
    {
     "data": {
      "text/plain": [
       "<matplotlib.collections.PathCollection at 0x7f89f9cb8e80>"
      ]
     },
     "execution_count": 9,
     "metadata": {},
     "output_type": "execute_result"
    },
    {
     "data": {
      "image/png": "[encoded data removed]",
      "text/plain": [
       "<Figure size 640x480 with 1 Axes>"
      ]
     },
     "metadata": {},
     "output_type": "display_data"
    }
   ],
   "source": [
    "plt.scatter(df_en.total, df_en.accuracy)"
   ]
  },
  {
   "cell_type": "code",
   "execution_count": 10,
   "id": "bf64803d",
   "metadata": {},
   "outputs": [
    {
     "data": {
      "text/plain": [
       "<matplotlib.collections.PathCollection at 0x7f8a035eae60>"
      ]
     },
     "execution_count": 10,
     "metadata": {},
     "output_type": "execute_result"
    },
    {
     "data": {
      "image/png": "[encoded data removed]",
      "text/plain": [
       "<Figure size 640x480 with 1 Axes>"
      ]
     },
     "metadata": {},
     "output_type": "display_data"
    }
   ],
   "source": [
    "plt.scatter(df.total, df.accuracy)"
   ]
  },
  {
   "cell_type": "markdown",
   "id": "72a9148e",
   "metadata": {},
   "source": [
    "# Webcorpus 2.0: gluten-free and vanila"
   ]
  },
  {
   "cell_type": "code",
   "execution_count": 11,
   "id": "5fe00039",
   "metadata": {},
   "outputs": [],
   "source": [
    "def aggregate_score(model):\n",
    "    df = get_analogy_scores(model, questions)\n",
    "    df.drop(index=['capital-world', 'capital-common-countries'], inplace=True)\n",
    "    # capital-world is disregarded because large OOV make this relation instabile\n",
    "    # [~df.index.str.startswith('gram')]\n",
    "    return df.accuracy.mean()"
   ]
  },
  {
   "cell_type": "code",
   "execution_count": 12,
   "id": "9aaf8135",
   "metadata": {},
   "outputs": [],
   "source": [
    "embed_dir = '/mnt/permanent/Language/Hungarian/Embed/webcorpus2.0'"
   ]
  },
  {
   "cell_type": "code",
   "execution_count": 36,
   "id": "08926e61",
   "metadata": {},
   "outputs": [],
   "source": [
    "file_patterns = ['2017_2018_2956', '2017_2018_295', '2017_2018_29', 'wiki', '2017_2018_2', '2017_2018']#, '201', ''\n",
    "def get_accuracy_by_size():\n",
    "    for file_pattern in file_patterns:\n",
    "        for deglutinate_ in ['vanila', 'deglut', 'deglutAllSuffSepd']:\n",
    "            try:\n",
    "                model = KeyedVectors.load(f'{embed_dir}/sgns-300-{file_pattern}-{deglutinate_}.gensim')\n",
    "            except FileNotFoundError:\n",
    "                continue\n",
    "            record = {\n",
    "                'files': f'{file_pattern}*',\n",
    "                'deglut' : deglutinate_,\n",
    "                'sentence': model.corpus_count, \n",
    "                'token': model.corpus_total_words, \n",
    "                'type': len(model.wv.key_to_index)}\n",
    "            df = get_analogy_scores(model.wv, questions)\n",
    "            record['capital-common-countries correct'] = df.loc['capital-common-countries', 'correct']\n",
    "            record['capital-common-countries total'] = df.loc['capital-common-countries', 'total']\n",
    "            df.drop(index=['capital-world', 'capital-common-countries'], inplace=True)\n",
    "            record['accuracy'] = df.accuracy.mean()\n",
    "            print(record)\n",
    "            yield record"
   ]
  },
  {
   "cell_type": "code",
   "execution_count": 37,
   "id": "0e0f313d",
   "metadata": {},
   "outputs": [],
   "source": [
    "records = get_accuracy_by_size()"
   ]
  },
  {
   "cell_type": "code",
   "execution_count": 38,
   "id": "c47173be",
   "metadata": {},
   "outputs": [
    {
     "name": "stdout",
     "output_type": "stream",
     "text": [
      "{'files': '2017_2018_2956*', 'deglut': 'vanila', 'sentence': 66798, 'token': 894741, 'type': 9388, 'capital-common-countries correct': 0, 'capital-common-countries total': 0, 'accuracy': 0.000649772579597141}\n",
      "{'files': '2017_2018_2956*', 'deglut': 'deglut', 'sentence': 66798, 'token': 1192818, 'type': 6739, 'capital-common-countries correct': 0, 'capital-common-countries total': 1, 'accuracy': 0.03333333333333333}\n",
      "{'files': '2017_2018_2956*', 'deglut': 'deglutAllSuffSepd', 'sentence': 66798, 'token': 1246317, 'type': 6576, 'capital-common-countries correct': 0, 'capital-common-countries total': 1, 'accuracy': 0.016666666666666666}\n",
      "{'files': '2017_2018_295*', 'deglut': 'vanila', 'sentence': 879317, 'token': 16948301, 'type': 149981, 'capital-common-countries correct': 0, 'capital-common-countries total': 0, 'accuracy': 0.07330104504745653}\n",
      "{'files': '2017_2018_295*', 'deglut': 'deglut', 'sentence': 879317, 'token': 22585465, 'type': 77302, 'capital-common-countries correct': 0, 'capital-common-countries total': 1, 'accuracy': 0.048497617670550004}\n",
      "{'files': '2017_2018_295*', 'deglut': 'deglutAllSuffSepd', 'sentence': 879317, 'token': 23261396, 'type': 76795, 'capital-common-countries correct': 0, 'capital-common-countries total': 1, 'accuracy': 0.050488967516831296}\n",
      "{'files': '2017_2018_29*', 'deglut': 'vanila', 'sentence': 12058626, 'token': 228013641, 'type': 1028343, 'capital-common-countries correct': 1, 'capital-common-countries total': 1, 'accuracy': 0.46968668094266186}\n",
      "{'files': '2017_2018_29*', 'deglut': 'deglut', 'sentence': 12058626, 'token': 301267234, 'type': 516924, 'capital-common-countries correct': 8, 'capital-common-countries total': 15, 'accuracy': 0.33574690875000474}\n",
      "{'files': '2017_2018_29*', 'deglut': 'deglutAllSuffSepd', 'sentence': 12058626, 'token': 310703112, 'type': 517419, 'capital-common-countries correct': 4, 'capital-common-countries total': 15, 'accuracy': 0.31798066595059077}\n",
      "{'files': 'wiki*', 'deglut': 'vanila', 'sentence': 11798744, 'token': 150652347, 'type': 920965, 'capital-common-countries correct': 20, 'capital-common-countries total': 36, 'accuracy': 0.4617929202249483}\n",
      "{'files': 'wiki*', 'deglut': 'deglut', 'sentence': 11798744, 'token': 194135453, 'type': 611326, 'capital-common-countries correct': 39, 'capital-common-countries total': 78, 'accuracy': 0.3010494407553231}\n",
      "{'files': 'wiki*', 'deglut': 'deglutAllSuffSepd', 'sentence': 11798744, 'token': 200357761, 'type': 611311, 'capital-common-countries correct': 36, 'capital-common-countries total': 78, 'accuracy': 0.33290300385888616}\n",
      "{'files': '2017_2018_2*', 'deglut': 'vanila', 'sentence': 133832368, 'token': 2485943840, 'type': 4730753, 'capital-common-countries correct': 0, 'capital-common-countries total': 0, 'accuracy': 0.5793543684689584}\n",
      "{'files': '2017_2018_2*', 'deglut': 'deglut', 'sentence': 133832368, 'token': 3290697925, 'type': 2531527, 'capital-common-countries correct': 4, 'capital-common-countries total': 15, 'accuracy': 0.5055663825114626}\n",
      "{'files': '2017_2018_2*', 'deglut': 'deglutAllSuffSepd', 'sentence': 133832368, 'token': 3395599678, 'type': 2537195, 'capital-common-countries correct': 11, 'capital-common-countries total': 15, 'accuracy': 0.5196376357560568}\n",
      "{'files': '2017_2018*', 'deglut': 'vanila', 'sentence': 511812157, 'token': 9640537495, 'type': 11400728, 'capital-common-countries correct': 6, 'capital-common-countries total': 6, 'accuracy': 0.618773704402168}\n",
      "{'files': '2017_2018*', 'deglut': 'deglut', 'sentence': 511812157, 'token': 12735487382, 'type': 6608298, 'capital-common-countries correct': 8, 'capital-common-countries total': 15, 'accuracy': 0.4307603507603508}\n",
      "{'files': '2017_2018*', 'deglut': 'deglutAllSuffSepd', 'sentence': 511812157, 'token': 13144806360, 'type': 6621171, 'capital-common-countries correct': 6, 'capital-common-countries total': 15, 'accuracy': 0.4673654666135869}\n"
     ]
    }
   ],
   "source": [
    "df_ = pd.DataFrame(records)"
   ]
  },
  {
   "cell_type": "code",
   "execution_count": 39,
   "id": "ba2be483",
   "metadata": {},
   "outputs": [
    {
     "data": {
      "text/html": [
       "<div>\n",
       "<style scoped>\n",
       "    .dataframe tbody tr th:only-of-type {\n",
       "        vertical-align: middle;\n",
       "    }\n",
       "\n",
       "    .dataframe tbody tr th {\n",
       "        vertical-align: top;\n",
       "    }\n",
       "\n",
       "    .dataframe thead th {\n",
       "        text-align: right;\n",
       "    }\n",
       "</style>\n",
       "<table border=\"1\" class=\"dataframe\">\n",
       "  <thead>\n",
       "    <tr style=\"text-align: right;\">\n",
       "      <th></th>\n",
       "      <th>files</th>\n",
       "      <th>deglut</th>\n",
       "      <th>sentence</th>\n",
       "      <th>token</th>\n",
       "      <th>type</th>\n",
       "      <th>capital-common-countries correct</th>\n",
       "      <th>capital-common-countries total</th>\n",
       "      <th>accuracy</th>\n",
       "    </tr>\n",
       "  </thead>\n",
       "  <tbody>\n",
       "    <tr>\n",
       "      <th>0</th>\n",
       "      <td>2017_2018_2956*</td>\n",
       "      <td>vanila</td>\n",
       "      <td>66798</td>\n",
       "      <td>894741</td>\n",
       "      <td>9388</td>\n",
       "      <td>0</td>\n",
       "      <td>0</td>\n",
       "      <td>0.000650</td>\n",
       "    </tr>\n",
       "    <tr>\n",
       "      <th>1</th>\n",
       "      <td>2017_2018_2956*</td>\n",
       "      <td>deglut</td>\n",
       "      <td>66798</td>\n",
       "      <td>1192818</td>\n",
       "      <td>6739</td>\n",
       "      <td>0</td>\n",
       "      <td>1</td>\n",
       "      <td>0.033333</td>\n",
       "    </tr>\n",
       "    <tr>\n",
       "      <th>2</th>\n",
       "      <td>2017_2018_2956*</td>\n",
       "      <td>deglutAllSuffSepd</td>\n",
       "      <td>66798</td>\n",
       "      <td>1246317</td>\n",
       "      <td>6576</td>\n",
       "      <td>0</td>\n",
       "      <td>1</td>\n",
       "      <td>0.016667</td>\n",
       "    </tr>\n",
       "    <tr>\n",
       "      <th>3</th>\n",
       "      <td>2017_2018_295*</td>\n",
       "      <td>vanila</td>\n",
       "      <td>879317</td>\n",
       "      <td>16948301</td>\n",
       "      <td>149981</td>\n",
       "      <td>0</td>\n",
       "      <td>0</td>\n",
       "      <td>0.073301</td>\n",
       "    </tr>\n",
       "    <tr>\n",
       "      <th>4</th>\n",
       "      <td>2017_2018_295*</td>\n",
       "      <td>deglut</td>\n",
       "      <td>879317</td>\n",
       "      <td>22585465</td>\n",
       "      <td>77302</td>\n",
       "      <td>0</td>\n",
       "      <td>1</td>\n",
       "      <td>0.048498</td>\n",
       "    </tr>\n",
       "    <tr>\n",
       "      <th>5</th>\n",
       "      <td>2017_2018_295*</td>\n",
       "      <td>deglutAllSuffSepd</td>\n",
       "      <td>879317</td>\n",
       "      <td>23261396</td>\n",
       "      <td>76795</td>\n",
       "      <td>0</td>\n",
       "      <td>1</td>\n",
       "      <td>0.050489</td>\n",
       "    </tr>\n",
       "    <tr>\n",
       "      <th>6</th>\n",
       "      <td>2017_2018_29*</td>\n",
       "      <td>vanila</td>\n",
       "      <td>12058626</td>\n",
       "      <td>228013641</td>\n",
       "      <td>1028343</td>\n",
       "      <td>1</td>\n",
       "      <td>1</td>\n",
       "      <td>0.469687</td>\n",
       "    </tr>\n",
       "    <tr>\n",
       "      <th>7</th>\n",
       "      <td>2017_2018_29*</td>\n",
       "      <td>deglut</td>\n",
       "      <td>12058626</td>\n",
       "      <td>301267234</td>\n",
       "      <td>516924</td>\n",
       "      <td>8</td>\n",
       "      <td>15</td>\n",
       "      <td>0.335747</td>\n",
       "    </tr>\n",
       "    <tr>\n",
       "      <th>8</th>\n",
       "      <td>2017_2018_29*</td>\n",
       "      <td>deglutAllSuffSepd</td>\n",
       "      <td>12058626</td>\n",
       "      <td>310703112</td>\n",
       "      <td>517419</td>\n",
       "      <td>4</td>\n",
       "      <td>15</td>\n",
       "      <td>0.317981</td>\n",
       "    </tr>\n",
       "    <tr>\n",
       "      <th>9</th>\n",
       "      <td>wiki*</td>\n",
       "      <td>vanila</td>\n",
       "      <td>11798744</td>\n",
       "      <td>150652347</td>\n",
       "      <td>920965</td>\n",
       "      <td>20</td>\n",
       "      <td>36</td>\n",
       "      <td>0.461793</td>\n",
       "    </tr>\n",
       "    <tr>\n",
       "      <th>10</th>\n",
       "      <td>wiki*</td>\n",
       "      <td>deglut</td>\n",
       "      <td>11798744</td>\n",
       "      <td>194135453</td>\n",
       "      <td>611326</td>\n",
       "      <td>39</td>\n",
       "      <td>78</td>\n",
       "      <td>0.301049</td>\n",
       "    </tr>\n",
       "    <tr>\n",
       "      <th>11</th>\n",
       "      <td>wiki*</td>\n",
       "      <td>deglutAllSuffSepd</td>\n",
       "      <td>11798744</td>\n",
       "      <td>200357761</td>\n",
       "      <td>611311</td>\n",
       "      <td>36</td>\n",
       "      <td>78</td>\n",
       "      <td>0.332903</td>\n",
       "    </tr>\n",
       "    <tr>\n",
       "      <th>12</th>\n",
       "      <td>2017_2018_2*</td>\n",
       "      <td>vanila</td>\n",
       "      <td>133832368</td>\n",
       "      <td>2485943840</td>\n",
       "      <td>4730753</td>\n",
       "      <td>0</td>\n",
       "      <td>0</td>\n",
       "      <td>0.579354</td>\n",
       "    </tr>\n",
       "    <tr>\n",
       "      <th>13</th>\n",
       "      <td>2017_2018_2*</td>\n",
       "      <td>deglut</td>\n",
       "      <td>133832368</td>\n",
       "      <td>3290697925</td>\n",
       "      <td>2531527</td>\n",
       "      <td>4</td>\n",
       "      <td>15</td>\n",
       "      <td>0.505566</td>\n",
       "    </tr>\n",
       "    <tr>\n",
       "      <th>14</th>\n",
       "      <td>2017_2018_2*</td>\n",
       "      <td>deglutAllSuffSepd</td>\n",
       "      <td>133832368</td>\n",
       "      <td>3395599678</td>\n",
       "      <td>2537195</td>\n",
       "      <td>11</td>\n",
       "      <td>15</td>\n",
       "      <td>0.519638</td>\n",
       "    </tr>\n",
       "    <tr>\n",
       "      <th>15</th>\n",
       "      <td>2017_2018*</td>\n",
       "      <td>vanila</td>\n",
       "      <td>511812157</td>\n",
       "      <td>9640537495</td>\n",
       "      <td>11400728</td>\n",
       "      <td>6</td>\n",
       "      <td>6</td>\n",
       "      <td>0.618774</td>\n",
       "    </tr>\n",
       "    <tr>\n",
       "      <th>16</th>\n",
       "      <td>2017_2018*</td>\n",
       "      <td>deglut</td>\n",
       "      <td>511812157</td>\n",
       "      <td>12735487382</td>\n",
       "      <td>6608298</td>\n",
       "      <td>8</td>\n",
       "      <td>15</td>\n",
       "      <td>0.430760</td>\n",
       "    </tr>\n",
       "    <tr>\n",
       "      <th>17</th>\n",
       "      <td>2017_2018*</td>\n",
       "      <td>deglutAllSuffSepd</td>\n",
       "      <td>511812157</td>\n",
       "      <td>13144806360</td>\n",
       "      <td>6621171</td>\n",
       "      <td>6</td>\n",
       "      <td>15</td>\n",
       "      <td>0.467365</td>\n",
       "    </tr>\n",
       "  </tbody>\n",
       "</table>\n",
       "</div>"
      ],
      "text/plain": [
       "              files             deglut   sentence        token      type  \\\n",
       "0   2017_2018_2956*             vanila      66798       894741      9388   \n",
       "1   2017_2018_2956*             deglut      66798      1192818      6739   \n",
       "2   2017_2018_2956*  deglutAllSuffSepd      66798      1246317      6576   \n",
       "3    2017_2018_295*             vanila     879317     16948301    149981   \n",
       "4    2017_2018_295*             deglut     879317     22585465     77302   \n",
       "5    2017_2018_295*  deglutAllSuffSepd     879317     23261396     76795   \n",
       "6     2017_2018_29*             vanila   12058626    228013641   1028343   \n",
       "7     2017_2018_29*             deglut   12058626    301267234    516924   \n",
       "8     2017_2018_29*  deglutAllSuffSepd   12058626    310703112    517419   \n",
       "9             wiki*             vanila   11798744    150652347    920965   \n",
       "10            wiki*             deglut   11798744    194135453    611326   \n",
       "11            wiki*  deglutAllSuffSepd   11798744    200357761    611311   \n",
       "12     2017_2018_2*             vanila  133832368   2485943840   4730753   \n",
       "13     2017_2018_2*             deglut  133832368   3290697925   2531527   \n",
       "14     2017_2018_2*  deglutAllSuffSepd  133832368   3395599678   2537195   \n",
       "15       2017_2018*             vanila  511812157   9640537495  11400728   \n",
       "16       2017_2018*             deglut  511812157  12735487382   6608298   \n",
       "17       2017_2018*  deglutAllSuffSepd  511812157  13144806360   6621171   \n",
       "\n",
       "    capital-common-countries correct  capital-common-countries total  accuracy  \n",
       "0                                  0                               0  0.000650  \n",
       "1                                  0                               1  0.033333  \n",
       "2                                  0                               1  0.016667  \n",
       "3                                  0                               0  0.073301  \n",
       "4                                  0                               1  0.048498  \n",
       "5                                  0                               1  0.050489  \n",
       "6                                  1                               1  0.469687  \n",
       "7                                  8                              15  0.335747  \n",
       "8                                  4                              15  0.317981  \n",
       "9                                 20                              36  0.461793  \n",
       "10                                39                              78  0.301049  \n",
       "11                                36                              78  0.332903  \n",
       "12                                 0                               0  0.579354  \n",
       "13                                 4                              15  0.505566  \n",
       "14                                11                              15  0.519638  \n",
       "15                                 6                               6  0.618774  \n",
       "16                                 8                              15  0.430760  \n",
       "17                                 6                              15  0.467365  "
      ]
     },
     "execution_count": 39,
     "metadata": {},
     "output_type": "execute_result"
    }
   ],
   "source": [
    "df_"
   ]
  },
  {
   "cell_type": "code",
   "execution_count": 46,
   "id": "bb590c85",
   "metadata": {},
   "outputs": [],
   "source": [
    "df_['capital-common-countries accuracy'] = df_['capital-common-countries correct']/df_['capital-common-countries total']"
   ]
  },
  {
   "cell_type": "code",
   "execution_count": 49,
   "id": "10575aa5",
   "metadata": {},
   "outputs": [],
   "source": [
    "df = df_.drop(columns=['deglut', 'accuracy']).groupby('files').max()\n",
    "df = df.join(pd.pivot_table(df_, values='accuracy', index='files', columns='deglut'), rsuffix='_')\n",
    "df = df.join(pd.pivot_table(df_, values='capital-common-countries accuracy', index='files', columns='deglut'), \n",
    "             rsuffix='_capital-common-countries')\n",
    "df.drop(columns=['capital-common-countries correct', 'capital-common-countries total'])\n",
    "df.sort_values('sentence', inplace=True)"
   ]
  },
  {
   "cell_type": "code",
   "execution_count": 41,
   "id": "e73a17b9",
   "metadata": {},
   "outputs": [],
   "source": [
    "def thousand(int_):\n",
    "    return f'{int_:,}'"
   ]
  },
  {
   "cell_type": "code",
   "execution_count": 50,
   "id": "80235a7d",
   "metadata": {},
   "outputs": [
    {
     "data": {
      "text/html": [
       "<div>\n",
       "<style scoped>\n",
       "    .dataframe tbody tr th:only-of-type {\n",
       "        vertical-align: middle;\n",
       "    }\n",
       "\n",
       "    .dataframe tbody tr th {\n",
       "        vertical-align: top;\n",
       "    }\n",
       "\n",
       "    .dataframe thead th {\n",
       "        text-align: right;\n",
       "    }\n",
       "</style>\n",
       "<table border=\"1\" class=\"dataframe\">\n",
       "  <thead>\n",
       "    <tr style=\"text-align: right;\">\n",
       "      <th></th>\n",
       "      <th>sentence</th>\n",
       "      <th>token</th>\n",
       "      <th>type</th>\n",
       "      <th>capital-common-countries correct</th>\n",
       "      <th>capital-common-countries total</th>\n",
       "      <th>capital-common-countries accuracy</th>\n",
       "      <th>deglut</th>\n",
       "      <th>deglutAllSuffSepd</th>\n",
       "      <th>vanila</th>\n",
       "      <th>deglut_capital-common-countries</th>\n",
       "      <th>deglutAllSuffSepd_capital-common-countries</th>\n",
       "      <th>vanila_capital-common-countries</th>\n",
       "    </tr>\n",
       "    <tr>\n",
       "      <th>files</th>\n",
       "      <th></th>\n",
       "      <th></th>\n",
       "      <th></th>\n",
       "      <th></th>\n",
       "      <th></th>\n",
       "      <th></th>\n",
       "      <th></th>\n",
       "      <th></th>\n",
       "      <th></th>\n",
       "      <th></th>\n",
       "      <th></th>\n",
       "      <th></th>\n",
       "    </tr>\n",
       "  </thead>\n",
       "  <tbody>\n",
       "    <tr>\n",
       "      <th>2017_2018_2956*</th>\n",
       "      <td>66,798</td>\n",
       "      <td>1,246,317</td>\n",
       "      <td>9,388</td>\n",
       "      <td>0</td>\n",
       "      <td>1</td>\n",
       "      <td>0.000000</td>\n",
       "      <td>0.033333</td>\n",
       "      <td>0.016667</td>\n",
       "      <td>0.000650</td>\n",
       "      <td>0.000000</td>\n",
       "      <td>0.000000</td>\n",
       "      <td>NaN</td>\n",
       "    </tr>\n",
       "    <tr>\n",
       "      <th>2017_2018_295*</th>\n",
       "      <td>879,317</td>\n",
       "      <td>23,261,396</td>\n",
       "      <td>149,981</td>\n",
       "      <td>0</td>\n",
       "      <td>1</td>\n",
       "      <td>0.000000</td>\n",
       "      <td>0.048498</td>\n",
       "      <td>0.050489</td>\n",
       "      <td>0.073301</td>\n",
       "      <td>0.000000</td>\n",
       "      <td>0.000000</td>\n",
       "      <td>NaN</td>\n",
       "    </tr>\n",
       "    <tr>\n",
       "      <th>wiki*</th>\n",
       "      <td>11,798,744</td>\n",
       "      <td>200,357,761</td>\n",
       "      <td>920,965</td>\n",
       "      <td>39</td>\n",
       "      <td>78</td>\n",
       "      <td>0.555556</td>\n",
       "      <td>0.301049</td>\n",
       "      <td>0.332903</td>\n",
       "      <td>0.461793</td>\n",
       "      <td>0.500000</td>\n",
       "      <td>0.461538</td>\n",
       "      <td>0.555556</td>\n",
       "    </tr>\n",
       "    <tr>\n",
       "      <th>2017_2018_29*</th>\n",
       "      <td>12,058,626</td>\n",
       "      <td>310,703,112</td>\n",
       "      <td>1,028,343</td>\n",
       "      <td>8</td>\n",
       "      <td>15</td>\n",
       "      <td>1.000000</td>\n",
       "      <td>0.335747</td>\n",
       "      <td>0.317981</td>\n",
       "      <td>0.469687</td>\n",
       "      <td>0.533333</td>\n",
       "      <td>0.266667</td>\n",
       "      <td>1.000000</td>\n",
       "    </tr>\n",
       "    <tr>\n",
       "      <th>2017_2018_2*</th>\n",
       "      <td>133,832,368</td>\n",
       "      <td>3,395,599,678</td>\n",
       "      <td>4,730,753</td>\n",
       "      <td>11</td>\n",
       "      <td>15</td>\n",
       "      <td>0.733333</td>\n",
       "      <td>0.505566</td>\n",
       "      <td>0.519638</td>\n",
       "      <td>0.579354</td>\n",
       "      <td>0.266667</td>\n",
       "      <td>0.733333</td>\n",
       "      <td>NaN</td>\n",
       "    </tr>\n",
       "    <tr>\n",
       "      <th>2017_2018*</th>\n",
       "      <td>511,812,157</td>\n",
       "      <td>13,144,806,360</td>\n",
       "      <td>11,400,728</td>\n",
       "      <td>8</td>\n",
       "      <td>15</td>\n",
       "      <td>1.000000</td>\n",
       "      <td>0.430760</td>\n",
       "      <td>0.467365</td>\n",
       "      <td>0.618774</td>\n",
       "      <td>0.533333</td>\n",
       "      <td>0.400000</td>\n",
       "      <td>1.000000</td>\n",
       "    </tr>\n",
       "  </tbody>\n",
       "</table>\n",
       "</div>"
      ],
      "text/plain": [
       "                    sentence           token        type  \\\n",
       "files                                                      \n",
       "2017_2018_2956*       66,798       1,246,317       9,388   \n",
       "2017_2018_295*       879,317      23,261,396     149,981   \n",
       "wiki*             11,798,744     200,357,761     920,965   \n",
       "2017_2018_29*     12,058,626     310,703,112   1,028,343   \n",
       "2017_2018_2*     133,832,368   3,395,599,678   4,730,753   \n",
       "2017_2018*       511,812,157  13,144,806,360  11,400,728   \n",
       "\n",
       "                 capital-common-countries correct  \\\n",
       "files                                               \n",
       "2017_2018_2956*                                 0   \n",
       "2017_2018_295*                                  0   \n",
       "wiki*                                          39   \n",
       "2017_2018_29*                                   8   \n",
       "2017_2018_2*                                   11   \n",
       "2017_2018*                                      8   \n",
       "\n",
       "                 capital-common-countries total  \\\n",
       "files                                             \n",
       "2017_2018_2956*                               1   \n",
       "2017_2018_295*                                1   \n",
       "wiki*                                        78   \n",
       "2017_2018_29*                                15   \n",
       "2017_2018_2*                                 15   \n",
       "2017_2018*                                   15   \n",
       "\n",
       "                 capital-common-countries accuracy    deglut  \\\n",
       "files                                                          \n",
       "2017_2018_2956*                           0.000000  0.033333   \n",
       "2017_2018_295*                            0.000000  0.048498   \n",
       "wiki*                                     0.555556  0.301049   \n",
       "2017_2018_29*                             1.000000  0.335747   \n",
       "2017_2018_2*                              0.733333  0.505566   \n",
       "2017_2018*                                1.000000  0.430760   \n",
       "\n",
       "                 deglutAllSuffSepd    vanila  deglut_capital-common-countries  \\\n",
       "files                                                                           \n",
       "2017_2018_2956*           0.016667  0.000650                         0.000000   \n",
       "2017_2018_295*            0.050489  0.073301                         0.000000   \n",
       "wiki*                     0.332903  0.461793                         0.500000   \n",
       "2017_2018_29*             0.317981  0.469687                         0.533333   \n",
       "2017_2018_2*              0.519638  0.579354                         0.266667   \n",
       "2017_2018*                0.467365  0.618774                         0.533333   \n",
       "\n",
       "                 deglutAllSuffSepd_capital-common-countries  \\\n",
       "files                                                         \n",
       "2017_2018_2956*                                    0.000000   \n",
       "2017_2018_295*                                     0.000000   \n",
       "wiki*                                              0.461538   \n",
       "2017_2018_29*                                      0.266667   \n",
       "2017_2018_2*                                       0.733333   \n",
       "2017_2018*                                         0.400000   \n",
       "\n",
       "                 vanila_capital-common-countries  \n",
       "files                                             \n",
       "2017_2018_2956*                              NaN  \n",
       "2017_2018_295*                               NaN  \n",
       "wiki*                                   0.555556  \n",
       "2017_2018_29*                           1.000000  \n",
       "2017_2018_2*                                 NaN  \n",
       "2017_2018*                              1.000000  "
      ]
     },
     "execution_count": 50,
     "metadata": {},
     "output_type": "execute_result"
    }
   ],
   "source": [
    "df.apply({col: thousand if col in ['sentence', 'token', 'type'] else lambda x: x for col in df.columns})"
   ]
  },
  {
   "cell_type": "code",
   "execution_count": 52,
   "id": "691e47b2",
   "metadata": {},
   "outputs": [
    {
     "data": {
      "text/plain": [
       "Index(['sentence', 'token', 'type', 'capital-common-countries correct',\n",
       "       'capital-common-countries total', 'capital-common-countries accuracy',\n",
       "       'deglut', 'deglutAllSuffSepd', 'vanila',\n",
       "       'deglut_capital-common-countries',\n",
       "       'deglutAllSuffSepd_capital-common-countries',\n",
       "       'vanila_capital-common-countries'],\n",
       "      dtype='object')"
      ]
     },
     "execution_count": 52,
     "metadata": {},
     "output_type": "execute_result"
    }
   ],
   "source": [
    "df.columns"
   ]
  },
  {
   "cell_type": "code",
   "execution_count": 56,
   "id": "a86ad463",
   "metadata": {},
   "outputs": [
    {
     "data": {
      "image/png": "[encoded data removed]",
      "text/plain": [
       "<Figure size 640x480 with 1 Axes>"
      ]
     },
     "metadata": {},
     "output_type": "display_data"
    }
   ],
   "source": [
    "df[['vanila', 'deglut', 'deglutAllSuffSepd']].plot()\n",
    "_ = plt.xticks(rotation=90)\n"
   ]
  },
  {
   "cell_type": "code",
   "execution_count": 55,
   "id": "5e5f1965",
   "metadata": {},
   "outputs": [
    {
     "data": {
      "image/png": "[encoded data removed]",
      "text/plain": [
       "<Figure size 640x480 with 1 Axes>"
      ]
     },
     "metadata": {},
     "output_type": "display_data"
    }
   ],
   "source": [
    "df[['deglut_capital-common-countries',\n",
    "       'deglutAllSuffSepd_capital-common-countries',\n",
    "       'vanila_capital-common-countries']].plot()\n",
    "_ = plt.xticks(rotation=90)\n"
   ]
  },
  {
   "cell_type": "markdown",
   "id": "fdb3e52f",
   "metadata": {},
   "source": [
    "# Investigating the strange results"
   ]
  },
  {
   "cell_type": "code",
   "execution_count": null,
   "id": "e2cec648",
   "metadata": {},
   "outputs": [],
   "source": [
    "def plot_accur_of_two_embeds(accuracies_vanila, accuracies_deglut, lname='vanila', rname='deglut', \n",
    "                             column='accuracy'):\n",
    "    accuracies = accuracies_vanila.join(accuracies_deglut, rsuffix=f'-{rname}')\n",
    "    plt.scatter(accuracies[f'{column}'], accuracies[f'{column}-{rname}'])\n",
    "    plt.xlabel(lname)\n",
    "    plt.ylabel(rname)\n",
    "    for relation, stats in accuracies.iterrows():\n",
    "        plt.annotate(relation, xy=(stats[f'{column}'], stats[f'{column}-{rname}']), rotation=45)"
   ]
  },
  {
   "cell_type": "code",
   "execution_count": null,
   "id": "9f6142aa",
   "metadata": {},
   "outputs": [],
   "source": [
    "def get_analogy_scores_wrapper(filen_suff, deglut):\n",
    "    vecs = KeyedVectors.load(f'/mnt/permanent/Language/Hungarian/Embed/webcorpus2.0/sgns-300-{filen_suff}-{deglut}.gensim')\n",
    "    return get_analogy_scores(vecs.wv, questions)"
   ]
  },
  {
   "cell_type": "markdown",
   "id": "4a0e4abf",
   "metadata": {},
   "source": [
    "## Two kinds of deglut"
   ]
  },
  {
   "cell_type": "markdown",
   "id": "08a4bd3b",
   "metadata": {},
   "source": [
    "### Greatest difference"
   ]
  },
  {
   "cell_type": "code",
   "execution_count": null,
   "id": "ecc842bb",
   "metadata": {},
   "outputs": [],
   "source": [
    "nemeskey = get_analogy_scores_wrapper('2017_2018_2', 'deglutAllSuffSepd')"
   ]
  },
  {
   "cell_type": "code",
   "execution_count": null,
   "id": "f73e2052",
   "metadata": {},
   "outputs": [],
   "source": [
    "twopart = get_analogy_scores_wrapper('2017_2018_2', 'deglut')"
   ]
  },
  {
   "cell_type": "code",
   "execution_count": null,
   "id": "cd3d2cd9",
   "metadata": {},
   "outputs": [],
   "source": [
    "plot_accur_of_two_embeds(nemeskey, twopart, lname='nemeskey', rname='twopart', column='correct')"
   ]
  },
  {
   "cell_type": "markdown",
   "id": "ff4c4a0c",
   "metadata": {},
   "source": [
    "## Larger corpus is worse"
   ]
  },
  {
   "cell_type": "markdown",
   "id": "43cead70",
   "metadata": {},
   "source": [
    "## deglut 13G: `capital-common-countries` is worse in the larger corpus"
   ]
  },
  {
   "cell_type": "markdown",
   "id": "81148cfb",
   "metadata": {},
   "source": [
    "### Nemeskey-style"
   ]
  },
  {
   "cell_type": "code",
   "execution_count": null,
   "id": "0c0a5bee",
   "metadata": {},
   "outputs": [],
   "source": [
    "vecs = KeyedVectors.load('/mnt/permanent/Language/Hungarian/Embed/webcorpus2.0/sgns-300-2017_2018_2-deglutAllSuffSepd.gensim')\n",
    "accur_3G = get_analogy_scores(vecs.wv, questions)"
   ]
  },
  {
   "cell_type": "code",
   "execution_count": null,
   "id": "36879f07",
   "metadata": {},
   "outputs": [],
   "source": [
    "vecs = KeyedVectors.load('/mnt/permanent/Language/Hungarian/Embed/webcorpus2.0/sgns-300-2017_2018-deglutAllSuffSepd.gensim')\n",
    "accur_13G = get_analogy_scores(vecs.wv, questions)"
   ]
  },
  {
   "cell_type": "code",
   "execution_count": null,
   "id": "d148a286",
   "metadata": {},
   "outputs": [],
   "source": [
    "plot_accur_of_two_embeds(accur_3G, accur_13G, lname='small', rname='large')"
   ]
  },
  {
   "cell_type": "code",
   "execution_count": null,
   "id": "9769a4d6",
   "metadata": {},
   "outputs": [],
   "source": [
    "plot_accur_of_two_embeds(accur_3G, accur_13G, lname='small', rname='large', column='correct')\n",
    "#plt.xscale('log')\n",
    "#plt.yscale('log')"
   ]
  },
  {
   "cell_type": "code",
   "execution_count": null,
   "id": "ac2b71ae",
   "metadata": {},
   "outputs": [],
   "source": [
    "accur_3G.loc['capital-common-countries']"
   ]
  },
  {
   "cell_type": "code",
   "execution_count": null,
   "id": "69392fb4",
   "metadata": {},
   "outputs": [],
   "source": [
    "accur_13G.loc['capital-common-countries']"
   ]
  },
  {
   "cell_type": "markdown",
   "id": "d447d8cf",
   "metadata": {},
   "source": [
    "### two-part"
   ]
  },
  {
   "cell_type": "code",
   "execution_count": null,
   "id": "205655c6",
   "metadata": {},
   "outputs": [],
   "source": [
    "vecs = KeyedVectors.load('/mnt/permanent/Language/Hungarian/Embed/webcorpus2.0/sgns-300-2017_2018_2-deglut.gensim')\n",
    "accur_3G = get_analogy_scores(vecs.wv, questions)"
   ]
  },
  {
   "cell_type": "code",
   "execution_count": null,
   "id": "eb9c4f04",
   "metadata": {},
   "outputs": [],
   "source": [
    "vecs = KeyedVectors.load('/mnt/permanent/Language/Hungarian/Embed/webcorpus2.0/sgns-300-2017_2018-deglut.gensim')\n",
    "accur_13G = get_analogy_scores(vecs.wv, questions)"
   ]
  },
  {
   "cell_type": "code",
   "execution_count": null,
   "id": "8b35e08a",
   "metadata": {},
   "outputs": [],
   "source": [
    "plot_accur_of_two_embeds(accur_3G, accur_13G, lname='small', rname='large')"
   ]
  },
  {
   "cell_type": "code",
   "execution_count": null,
   "id": "f253dae4",
   "metadata": {},
   "outputs": [],
   "source": [
    "plot_accur_of_two_embeds(accur_3G, accur_13G, lname='small', rname='large', column='correct')\n",
    "#plt.xscale('log')\n",
    "#plt.yscale('log')"
   ]
  },
  {
   "cell_type": "code",
   "execution_count": null,
   "id": "f933d356",
   "metadata": {},
   "outputs": [],
   "source": [
    "accur_3G.loc['capital-common-countries']"
   ]
  },
  {
   "cell_type": "code",
   "execution_count": null,
   "id": "bd88939f",
   "metadata": {},
   "outputs": [],
   "source": [
    "accur_13G.loc['capital-common-countries']"
   ]
  },
  {
   "cell_type": "markdown",
   "id": "f36a00a5",
   "metadata": {},
   "source": [
    "## Wiki vs similar-sized webcorpus"
   ]
  },
  {
   "cell_type": "code",
   "execution_count": null,
   "id": "d4638208",
   "metadata": {},
   "outputs": [],
   "source": [
    "wiki_vanl = get_analogy_scores_wrapper('wiki', 'vanila')\n",
    "wiki_dg_nemeskey = get_analogy_scores_wrapper('wiki', 'deglutAllSuffSepd')\n",
    "wiki_dg_twopart = get_analogy_scores_wrapper('wiki', 'deglut')\n",
    "webcorp_vanl = get_analogy_scores_wrapper('2017_2018_29', 'vanila')\n",
    "webcorp_dg_nemeskey = get_analogy_scores_wrapper('2017_2018_29', 'deglutAllSuffSepd')\n",
    "webcorp_dg_twopart = get_analogy_scores_wrapper('2017_2018_29', 'deglut')"
   ]
  },
  {
   "cell_type": "markdown",
   "id": "9fe097dc",
   "metadata": {},
   "source": [
    "### vanila"
   ]
  },
  {
   "cell_type": "code",
   "execution_count": null,
   "id": "11b1ffa4",
   "metadata": {},
   "outputs": [],
   "source": [
    "plot_accur_of_two_embeds(wiki_vanl, webcorp_vanl, lname='wiki', rname='web')"
   ]
  },
  {
   "cell_type": "code",
   "execution_count": null,
   "id": "1672d4e5",
   "metadata": {},
   "outputs": [],
   "source": [
    "plot_accur_of_two_embeds(wiki_vanl, webcorp_vanl, lname='wiki', rname='web', column='correct')"
   ]
  },
  {
   "cell_type": "code",
   "execution_count": null,
   "id": "18c34e8f",
   "metadata": {},
   "outputs": [],
   "source": [
    "wiki_vanl.loc['capital-common-countries']"
   ]
  },
  {
   "cell_type": "code",
   "execution_count": null,
   "id": "6ecc9dba",
   "metadata": {},
   "outputs": [],
   "source": [
    "webcorp_vanl.loc['capital-common-countries']"
   ]
  },
  {
   "cell_type": "markdown",
   "id": "a1a3e3bf",
   "metadata": {},
   "source": [
    "### two-part"
   ]
  },
  {
   "cell_type": "code",
   "execution_count": null,
   "id": "b996ea94",
   "metadata": {},
   "outputs": [],
   "source": [
    "plot_accur_of_two_embeds(wiki_dg_twopart, webcorp_dg_twopart, lname='wiki', rname='web')"
   ]
  },
  {
   "cell_type": "code",
   "execution_count": null,
   "id": "2daa7e6d",
   "metadata": {},
   "outputs": [],
   "source": [
    "plot_accur_of_two_embeds(wiki_dg_twopart, webcorp_dg_twopart, lname='wiki', rname='web', column='correct')"
   ]
  },
  {
   "cell_type": "markdown",
   "id": "6e5ab210",
   "metadata": {},
   "source": [
    "## Nemeskey-style"
   ]
  },
  {
   "cell_type": "code",
   "execution_count": null,
   "id": "87b35215",
   "metadata": {},
   "outputs": [],
   "source": [
    "plot_accur_of_two_embeds(wiki_dg_nemeskey, webcorp_dg_nemeskey, lname='wiki', rname='web')"
   ]
  },
  {
   "cell_type": "code",
   "execution_count": null,
   "id": "afd9a404",
   "metadata": {},
   "outputs": [],
   "source": [
    "plot_accur_of_two_embeds(wiki_dg_nemeskey, webcorp_dg_nemeskey, lname='wiki', rname='web', column='correct')"
   ]
  },
  {
   "cell_type": "markdown",
   "id": "4b6ba8b9",
   "metadata": {},
   "source": [
    "# Sanity check of the gluten-free embed"
   ]
  },
  {
   "cell_type": "code",
   "execution_count": null,
   "id": "185bc050",
   "metadata": {},
   "outputs": [],
   "source": [
    "vectors_vanila = KeyedVectors.load(\n",
    "    '/mnt/permanent/Language/Hungarian/Embed/webcorpus2.0/sgns-300-2017_2018-vanila.gensim').wv"
   ]
  },
  {
   "cell_type": "code",
   "execution_count": null,
   "id": "efd1f977",
   "metadata": {},
   "outputs": [],
   "source": [
    "vectors_vanila.most_similar('menekít')"
   ]
  },
  {
   "cell_type": "code",
   "execution_count": null,
   "id": "3e4b72e6",
   "metadata": {},
   "outputs": [],
   "source": [
    "accuracies_vanila = get_analogy_scores(vectors_vanila, questions)"
   ]
  },
  {
   "cell_type": "code",
   "execution_count": null,
   "id": "63e6f29c",
   "metadata": {},
   "outputs": [],
   "source": [
    "vectors_deglut = KeyedVectors.load(\n",
    "    '/mnt/permanent/Language/Hungarian/Embed/webcorpus2.0/sgns-300-2017_2018-deglut.gensim').wv"
   ]
  },
  {
   "cell_type": "code",
   "execution_count": null,
   "id": "3a6b8ef7",
   "metadata": {},
   "outputs": [],
   "source": [
    "vectors_deglut.most_similar('menekít')"
   ]
  },
  {
   "cell_type": "code",
   "execution_count": null,
   "id": "8dcf8cf1",
   "metadata": {},
   "outputs": [],
   "source": [
    "accuracies_deglut = get_analogy_scores(vectors_deglut, questions)"
   ]
  }
 ],
 "metadata": {
  "kernelspec": {
   "display_name": "Python 3 (ipykernel)",
   "language": "python",
   "name": "python3"
  },
  "language_info": {
   "codemirror_mode": {
    "name": "ipython",
    "version": 3
   },
   "file_extension": ".py",
   "mimetype": "text/x-python",
   "name": "python",
   "nbconvert_exporter": "python",
   "pygments_lexer": "ipython3",
   "version": "3.10.8"
  }
 },
 "nbformat": 4,
 "nbformat_minor": 5
}
