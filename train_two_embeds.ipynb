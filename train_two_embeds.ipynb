{
 "cells": [
  {
   "cell_type": "code",
   "execution_count": 9,
   "id": "0b8a0339",
   "metadata": {},
   "outputs": [],
   "source": [
    "import glob\n",
    "import gzip\n",
    "import logging\n",
    "import re\n",
    "\n",
    "import gensim\n",
    "import pandas as pd\n",
    "\n",
    "logging.basicConfig(format='%(asctime)s : %(levelname)s : %(message)s', level=logging.DEBUG)"
   ]
  },
  {
   "cell_type": "code",
   "execution_count": 24,
   "id": "ec766e6f",
   "metadata": {},
   "outputs": [],
   "source": [
    "def deglutinate(emtsv_record):\n",
    "    \"\"\"\n",
    "    Érdekelheti\t\" \"\térdekel\t[/V][_Mod/V][Prs.Def.3Sg]\n",
    "    köszönhetően\t\" \"\tköszönhető\t[/Adj][_Manner/Adv]\n",
    "    \"\"\"\n",
    "    morphs = re.findall('\\[[^/][^\\]]*\\]', emtsv_record.xpostag)\n",
    "    # WONTFIX: prefixes (e.g. leg-)\n",
    "    morphs = [morph for morph in morphs if morph not in ['[Nom]', '[Punct]']]\n",
    "    if morphs:\n",
    "        return [emtsv_record.lemma, \"\".join(morphs)]\n",
    "    else:\n",
    "        return [emtsv_record.form]"
   ]
  },
  {
   "cell_type": "code",
   "execution_count": 19,
   "id": "20a500c4",
   "metadata": {},
   "outputs": [],
   "source": [
    "def get_sentences(file_pattern='2017_2018_2956', deglutinate_=False):\n",
    "    \"\"\"\n",
    "    Yields a series for each sentence.\n",
    "    \"\"\"\n",
    "    for filen in glob.glob(f'/mnt/permanent/home/ndavid/public_html/Webcorpus2_clean/{file_pattern}*.tsv.gz'):\n",
    "        with gzip.open(filen, mode='rt') as textwrapper:\n",
    "            word_records = []\n",
    "            first_sent_in_file = True\n",
    "            columns = None\n",
    "            for line in textwrapper:\n",
    "                line = line.strip()\n",
    "                if not line:\n",
    "                    if first_sent_in_file:\n",
    "                        columns =  word_records[0]\n",
    "                        word_records = word_records[1:]\n",
    "                        first_sent_in_file = False\n",
    "                    sent_df = pd.DataFrame(word_records, columns=columns)\n",
    "                    word_records = []\n",
    "                    if deglutinate_:\n",
    "                        yield sent_df.apply(deglutinate, axis=1).sum()\n",
    "                    else:\n",
    "                        yield list(sent_df.form)\n",
    "                elif line.startswith('#'):\n",
    "                    if line.startswith('# text ='):\n",
    "                        pass\n",
    "                        # logging.debug = line[9:]\n",
    "                else:\n",
    "                    word_records.append(line.split('\\t'))"
   ]
  },
  {
   "cell_type": "code",
   "execution_count": null,
   "id": "9296b1c6",
   "metadata": {},
   "outputs": [],
   "source": [
    "for file_pattern in ['2017_2018_2956', '2017_2018_295', '2017_2018_29', '2017_2018_2', '2017_2018,' '201']:\n",
    "    for deglutinate_ in [False, True]:\n",
    "        deglutinate_humanread = 'deglut' if deglutinate_ else 'vanila'\n",
    "        logging.info((file_pattern, deglutinate_humanread))\n",
    "        model_vanl = gensim.models.Word2Vec(vector_size=300, sg=True)\n",
    "        model_vanl.build_vocab(corpus_iterable=get_sentences(file_pattern=file_pattern, deglutinate_=deglutinate_))\n",
    "        model_vanl.train(get_sentences(file_pattern=file_pattern, deglutinate_=deglutinate_), \n",
    "                         total_examples=model_vanl.corpus_count, epochs=1)\n",
    "        model_vanl.save(\n",
    "            f'/mnt/permanent/Language/Hungarian/Embed/webcorpus2.0/sgns-300-{file_pattern}-{deglutinate_humanread}')"
   ]
  }
 ],
 "metadata": {
  "kernelspec": {
   "display_name": "Python 3 (ipykernel)",
   "language": "python",
   "name": "python3"
  },
  "language_info": {
   "codemirror_mode": {
    "name": "ipython",
    "version": 3
   },
   "file_extension": ".py",
   "mimetype": "text/x-python",
   "name": "python",
   "nbconvert_exporter": "python",
   "pygments_lexer": "ipython3",
   "version": "3.10.8"
  }
 },
 "nbformat": 4,
 "nbformat_minor": 5
}
